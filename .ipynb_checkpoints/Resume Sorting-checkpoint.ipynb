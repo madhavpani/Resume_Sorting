{
 "cells": [
  {
   "cell_type": "markdown",
   "id": "4cca0e99-3250-4a35-b89e-e4ee7a8a5f82",
   "metadata": {},
   "source": [
    "## Resume Sorting"
   ]
  },
  {
   "cell_type": "markdown",
   "id": "549d3873-cc88-4ffd-ac46-ad79dbcc4a00",
   "metadata": {},
   "source": [
    "#### Import Libraries"
   ]
  },
  {
   "cell_type": "code",
   "execution_count": 94,
   "id": "78c8d40b-1621-44dc-bf18-6c6f70bb7eb0",
   "metadata": {},
   "outputs": [],
   "source": [
    "import pandas as pd\n",
    "import numpy as np\n",
    "import seaborn as sns\n",
    "import matplotlib.pyplot as plt"
   ]
  },
  {
   "cell_type": "code",
   "execution_count": 95,
   "id": "825b773e-6c22-47bd-865f-5a538762d362",
   "metadata": {},
   "outputs": [],
   "source": [
    "import warnings\n",
    "warnings.filterwarnings('ignore')"
   ]
  },
  {
   "cell_type": "markdown",
   "id": "ceca6ec0-af6c-438c-aa0b-31bf0f0fe8b8",
   "metadata": {},
   "source": [
    "## Import Dataset"
   ]
  },
  {
   "cell_type": "markdown",
   "id": "55787d3d-e71c-4708-b792-b62595c2f9e0",
   "metadata": {},
   "source": [
    "### Dataset 1"
   ]
  },
  {
   "cell_type": "code",
   "execution_count": 96,
   "id": "f9397b65-7979-42f2-8d33-aacb9284eece",
   "metadata": {},
   "outputs": [
    {
     "data": {
      "text/html": [
       "<div>\n",
       "<style scoped>\n",
       "    .dataframe tbody tr th:only-of-type {\n",
       "        vertical-align: middle;\n",
       "    }\n",
       "\n",
       "    .dataframe tbody tr th {\n",
       "        vertical-align: top;\n",
       "    }\n",
       "\n",
       "    .dataframe thead th {\n",
       "        text-align: right;\n",
       "    }\n",
       "</style>\n",
       "<table border=\"1\" class=\"dataframe\">\n",
       "  <thead>\n",
       "    <tr style=\"text-align: right;\">\n",
       "      <th></th>\n",
       "      <th>person_id</th>\n",
       "      <th>name</th>\n",
       "    </tr>\n",
       "  </thead>\n",
       "  <tbody>\n",
       "    <tr>\n",
       "      <th>0</th>\n",
       "      <td>1</td>\n",
       "      <td>Database Administrator</td>\n",
       "    </tr>\n",
       "    <tr>\n",
       "      <th>1</th>\n",
       "      <td>2</td>\n",
       "      <td>Database Administrator</td>\n",
       "    </tr>\n",
       "    <tr>\n",
       "      <th>2</th>\n",
       "      <td>3</td>\n",
       "      <td>Oracle Database Administrator</td>\n",
       "    </tr>\n",
       "  </tbody>\n",
       "</table>\n",
       "</div>"
      ],
      "text/plain": [
       "   person_id                           name\n",
       "0          1         Database Administrator\n",
       "1          2         Database Administrator\n",
       "2          3  Oracle Database Administrator"
      ]
     },
     "execution_count": 96,
     "metadata": {},
     "output_type": "execute_result"
    }
   ],
   "source": [
    "df1 = pd.read_csv('01_people.csv', usecols=['person_id', 'name'])\n",
    "df1.head(3)"
   ]
  },
  {
   "cell_type": "markdown",
   "id": "cd1bd050-16d5-46f6-b085-28a50cd9ca8a",
   "metadata": {},
   "source": [
    "#### Value Counts of PersonId"
   ]
  },
  {
   "cell_type": "code",
   "execution_count": 97,
   "id": "533a9470-299c-4853-9329-c36bae28ef1a",
   "metadata": {},
   "outputs": [
    {
     "data": {
      "text/plain": [
       "person_id\n",
       "1        1\n",
       "36615    1\n",
       "36617    1\n",
       "36618    1\n",
       "36619    1\n",
       "        ..\n",
       "18315    1\n",
       "18316    1\n",
       "18317    1\n",
       "18318    1\n",
       "54933    1\n",
       "Name: count, Length: 54933, dtype: int64"
      ]
     },
     "execution_count": 97,
     "metadata": {},
     "output_type": "execute_result"
    }
   ],
   "source": [
    "df1['person_id'].value_counts()"
   ]
  },
  {
   "cell_type": "markdown",
   "id": "9adc1324-1bdb-4f7e-b9c8-1f98d8d59f7f",
   "metadata": {},
   "source": [
    "### Dataset 2"
   ]
  },
  {
   "cell_type": "code",
   "execution_count": 98,
   "id": "ad1a9d7a-58e0-442e-ba04-8ea36b3dcae2",
   "metadata": {},
   "outputs": [
    {
     "data": {
      "text/html": [
       "<div>\n",
       "<style scoped>\n",
       "    .dataframe tbody tr th:only-of-type {\n",
       "        vertical-align: middle;\n",
       "    }\n",
       "\n",
       "    .dataframe tbody tr th {\n",
       "        vertical-align: top;\n",
       "    }\n",
       "\n",
       "    .dataframe thead th {\n",
       "        text-align: right;\n",
       "    }\n",
       "</style>\n",
       "<table border=\"1\" class=\"dataframe\">\n",
       "  <thead>\n",
       "    <tr style=\"text-align: right;\">\n",
       "      <th></th>\n",
       "      <th>person_id</th>\n",
       "      <th>ability</th>\n",
       "    </tr>\n",
       "  </thead>\n",
       "  <tbody>\n",
       "    <tr>\n",
       "      <th>0</th>\n",
       "      <td>1</td>\n",
       "      <td>Installation and Building Server</td>\n",
       "    </tr>\n",
       "    <tr>\n",
       "      <th>1</th>\n",
       "      <td>1</td>\n",
       "      <td>Running Backups</td>\n",
       "    </tr>\n",
       "    <tr>\n",
       "      <th>2</th>\n",
       "      <td>1</td>\n",
       "      <td>Recovering and Restoring Models</td>\n",
       "    </tr>\n",
       "  </tbody>\n",
       "</table>\n",
       "</div>"
      ],
      "text/plain": [
       "   person_id                           ability\n",
       "0          1  Installation and Building Server\n",
       "1          1                   Running Backups\n",
       "2          1   Recovering and Restoring Models"
      ]
     },
     "execution_count": 98,
     "metadata": {},
     "output_type": "execute_result"
    }
   ],
   "source": [
    "df2 = pd.read_csv('02_abilities.csv')\n",
    "df2.head(3)"
   ]
  },
  {
   "cell_type": "markdown",
   "id": "f47132e6-abe0-4ed5-8af9-e62a887e4057",
   "metadata": {},
   "source": [
    "#### Adding Separator at end"
   ]
  },
  {
   "cell_type": "code",
   "execution_count": 99,
   "id": "8b5bd119-5974-4061-912a-a96e5c19d02b",
   "metadata": {},
   "outputs": [
    {
     "data": {
      "text/html": [
       "<div>\n",
       "<style scoped>\n",
       "    .dataframe tbody tr th:only-of-type {\n",
       "        vertical-align: middle;\n",
       "    }\n",
       "\n",
       "    .dataframe tbody tr th {\n",
       "        vertical-align: top;\n",
       "    }\n",
       "\n",
       "    .dataframe thead th {\n",
       "        text-align: right;\n",
       "    }\n",
       "</style>\n",
       "<table border=\"1\" class=\"dataframe\">\n",
       "  <thead>\n",
       "    <tr style=\"text-align: right;\">\n",
       "      <th></th>\n",
       "      <th>person_id</th>\n",
       "      <th>ability</th>\n",
       "    </tr>\n",
       "  </thead>\n",
       "  <tbody>\n",
       "    <tr>\n",
       "      <th>0</th>\n",
       "      <td>1</td>\n",
       "      <td>Installation and Building Server,</td>\n",
       "    </tr>\n",
       "    <tr>\n",
       "      <th>1</th>\n",
       "      <td>1</td>\n",
       "      <td>Running Backups,</td>\n",
       "    </tr>\n",
       "    <tr>\n",
       "      <th>2</th>\n",
       "      <td>1</td>\n",
       "      <td>Recovering and Restoring Models,</td>\n",
       "    </tr>\n",
       "  </tbody>\n",
       "</table>\n",
       "</div>"
      ],
      "text/plain": [
       "   person_id                             ability\n",
       "0          1  Installation and Building Server, \n",
       "1          1                   Running Backups, \n",
       "2          1   Recovering and Restoring Models, "
      ]
     },
     "execution_count": 99,
     "metadata": {},
     "output_type": "execute_result"
    }
   ],
   "source": [
    "df2['ability'] = df2['ability'].apply(lambda x: x + ', ')\n",
    "df2.head(3)"
   ]
  },
  {
   "cell_type": "markdown",
   "id": "00347efd-566d-477b-99e1-bf319ff71ceb",
   "metadata": {},
   "source": [
    "#### Grouping by PersonId"
   ]
  },
  {
   "cell_type": "code",
   "execution_count": 100,
   "id": "b5aff7a3-9996-4a5c-a6cd-b5efa238efac",
   "metadata": {},
   "outputs": [
    {
     "data": {
      "text/html": [
       "<div>\n",
       "<style scoped>\n",
       "    .dataframe tbody tr th:only-of-type {\n",
       "        vertical-align: middle;\n",
       "    }\n",
       "\n",
       "    .dataframe tbody tr th {\n",
       "        vertical-align: top;\n",
       "    }\n",
       "\n",
       "    .dataframe thead th {\n",
       "        text-align: right;\n",
       "    }\n",
       "</style>\n",
       "<table border=\"1\" class=\"dataframe\">\n",
       "  <thead>\n",
       "    <tr style=\"text-align: right;\">\n",
       "      <th></th>\n",
       "      <th>ability</th>\n",
       "    </tr>\n",
       "    <tr>\n",
       "      <th>person_id</th>\n",
       "      <th></th>\n",
       "    </tr>\n",
       "  </thead>\n",
       "  <tbody>\n",
       "    <tr>\n",
       "      <th>1</th>\n",
       "      <td>Installation and Building Server, Running Back...</td>\n",
       "    </tr>\n",
       "    <tr>\n",
       "      <th>2</th>\n",
       "      <td>database management systems administration, de...</td>\n",
       "    </tr>\n",
       "    <tr>\n",
       "      <th>3</th>\n",
       "      <td>Over 4+ years of Experience as Architecture, E...</td>\n",
       "    </tr>\n",
       "  </tbody>\n",
       "</table>\n",
       "</div>"
      ],
      "text/plain": [
       "                                                     ability\n",
       "person_id                                                   \n",
       "1          Installation and Building Server, Running Back...\n",
       "2          database management systems administration, de...\n",
       "3          Over 4+ years of Experience as Architecture, E..."
      ]
     },
     "execution_count": 100,
     "metadata": {},
     "output_type": "execute_result"
    }
   ],
   "source": [
    "df2 = pd.DataFrame(df2.groupby(by='person_id', axis = 0)['ability'].sum())\n",
    "df2.head(3)"
   ]
  },
  {
   "cell_type": "markdown",
   "id": "e8ebee7b-1714-4389-ad7b-56a2b583d853",
   "metadata": {},
   "source": [
    "#### Merging Dataframes"
   ]
  },
  {
   "cell_type": "code",
   "execution_count": 101,
   "id": "a6adcacf-9b95-437b-b50a-cff1480fb7b1",
   "metadata": {},
   "outputs": [
    {
     "data": {
      "text/html": [
       "<div>\n",
       "<style scoped>\n",
       "    .dataframe tbody tr th:only-of-type {\n",
       "        vertical-align: middle;\n",
       "    }\n",
       "\n",
       "    .dataframe tbody tr th {\n",
       "        vertical-align: top;\n",
       "    }\n",
       "\n",
       "    .dataframe thead th {\n",
       "        text-align: right;\n",
       "    }\n",
       "</style>\n",
       "<table border=\"1\" class=\"dataframe\">\n",
       "  <thead>\n",
       "    <tr style=\"text-align: right;\">\n",
       "      <th></th>\n",
       "      <th>person_id</th>\n",
       "      <th>name</th>\n",
       "      <th>ability</th>\n",
       "    </tr>\n",
       "  </thead>\n",
       "  <tbody>\n",
       "    <tr>\n",
       "      <th>0</th>\n",
       "      <td>1</td>\n",
       "      <td>Database Administrator</td>\n",
       "      <td>Installation and Building Server, Running Back...</td>\n",
       "    </tr>\n",
       "    <tr>\n",
       "      <th>1</th>\n",
       "      <td>2</td>\n",
       "      <td>Database Administrator</td>\n",
       "      <td>database management systems administration, de...</td>\n",
       "    </tr>\n",
       "    <tr>\n",
       "      <th>2</th>\n",
       "      <td>3</td>\n",
       "      <td>Oracle Database Administrator</td>\n",
       "      <td>Over 4+ years of Experience as Architecture, E...</td>\n",
       "    </tr>\n",
       "  </tbody>\n",
       "</table>\n",
       "</div>"
      ],
      "text/plain": [
       "   person_id                           name  \\\n",
       "0          1         Database Administrator   \n",
       "1          2         Database Administrator   \n",
       "2          3  Oracle Database Administrator   \n",
       "\n",
       "                                             ability  \n",
       "0  Installation and Building Server, Running Back...  \n",
       "1  database management systems administration, de...  \n",
       "2  Over 4+ years of Experience as Architecture, E...  "
      ]
     },
     "execution_count": 101,
     "metadata": {},
     "output_type": "execute_result"
    }
   ],
   "source": [
    "resume_df = pd.merge(df1, df2, on='person_id')\n",
    "resume_df.head(3)"
   ]
  },
  {
   "cell_type": "markdown",
   "id": "b444e0af-05ba-40e5-8077-26e272dfdf25",
   "metadata": {},
   "source": [
    "#### Value Counts of PersonId"
   ]
  },
  {
   "cell_type": "code",
   "execution_count": 102,
   "id": "8588fbc4-b5c5-4889-98fc-cbde2b1e48ea",
   "metadata": {},
   "outputs": [
    {
     "data": {
      "text/plain": [
       "person_id\n",
       "1        1\n",
       "36614    1\n",
       "36616    1\n",
       "36617    1\n",
       "36618    1\n",
       "        ..\n",
       "18315    1\n",
       "18316    1\n",
       "18317    1\n",
       "18318    1\n",
       "54933    1\n",
       "Name: count, Length: 54930, dtype: int64"
      ]
     },
     "execution_count": 102,
     "metadata": {},
     "output_type": "execute_result"
    }
   ],
   "source": [
    "resume_df['person_id'].value_counts()"
   ]
  },
  {
   "cell_type": "markdown",
   "id": "0cfd1ac5-3af4-4149-97ec-b48df2e469c7",
   "metadata": {},
   "source": [
    "### Dataset 3"
   ]
  },
  {
   "cell_type": "code",
   "execution_count": 103,
   "id": "16be1d8a-3df2-4055-a3b4-982c859d7d60",
   "metadata": {},
   "outputs": [
    {
     "data": {
      "text/html": [
       "<div>\n",
       "<style scoped>\n",
       "    .dataframe tbody tr th:only-of-type {\n",
       "        vertical-align: middle;\n",
       "    }\n",
       "\n",
       "    .dataframe tbody tr th {\n",
       "        vertical-align: top;\n",
       "    }\n",
       "\n",
       "    .dataframe thead th {\n",
       "        text-align: right;\n",
       "    }\n",
       "</style>\n",
       "<table border=\"1\" class=\"dataframe\">\n",
       "  <thead>\n",
       "    <tr style=\"text-align: right;\">\n",
       "      <th></th>\n",
       "      <th>person_id</th>\n",
       "      <th>institution</th>\n",
       "      <th>program</th>\n",
       "      <th>start_date</th>\n",
       "      <th>location</th>\n",
       "    </tr>\n",
       "  </thead>\n",
       "  <tbody>\n",
       "    <tr>\n",
       "      <th>0</th>\n",
       "      <td>1</td>\n",
       "      <td>Lead City University</td>\n",
       "      <td>Bachelor of Science</td>\n",
       "      <td>07/2013</td>\n",
       "      <td>NaN</td>\n",
       "    </tr>\n",
       "    <tr>\n",
       "      <th>1</th>\n",
       "      <td>2</td>\n",
       "      <td>lagos state university</td>\n",
       "      <td>bsc in computer science</td>\n",
       "      <td>NaN</td>\n",
       "      <td>Lagos, GU</td>\n",
       "    </tr>\n",
       "    <tr>\n",
       "      <th>2</th>\n",
       "      <td>3</td>\n",
       "      <td>JNTU - Kakinada, Andhra Pradesh</td>\n",
       "      <td>Master of Computer Applications in Science and...</td>\n",
       "      <td>2013</td>\n",
       "      <td>Kakinada, Andhra Pradesh</td>\n",
       "    </tr>\n",
       "  </tbody>\n",
       "</table>\n",
       "</div>"
      ],
      "text/plain": [
       "   person_id                      institution  \\\n",
       "0          1             Lead City University   \n",
       "1          2           lagos state university   \n",
       "2          3  JNTU - Kakinada, Andhra Pradesh   \n",
       "\n",
       "                                             program start_date  \\\n",
       "0                                Bachelor of Science    07/2013   \n",
       "1                            bsc in computer science        NaN   \n",
       "2  Master of Computer Applications in Science and...       2013   \n",
       "\n",
       "                   location  \n",
       "0                       NaN  \n",
       "1                 Lagos, GU  \n",
       "2  Kakinada, Andhra Pradesh  "
      ]
     },
     "execution_count": 103,
     "metadata": {},
     "output_type": "execute_result"
    }
   ],
   "source": [
    "df3 = pd.read_csv('03_education.csv')\n",
    "df3.head(3)"
   ]
  },
  {
   "cell_type": "markdown",
   "id": "2a183cd4-b6f5-41dd-bd3f-c296e42d7995",
   "metadata": {},
   "source": [
    "#### Value Counts of PersonId"
   ]
  },
  {
   "cell_type": "code",
   "execution_count": 104,
   "id": "171c23e2-b50f-45e5-bcb0-a37f3f40736b",
   "metadata": {},
   "outputs": [
    {
     "data": {
      "text/plain": [
       "person_id\n",
       "7746     15\n",
       "44368    15\n",
       "26057    15\n",
       "25270    10\n",
       "6959     10\n",
       "         ..\n",
       "23094     1\n",
       "23092     1\n",
       "23090     1\n",
       "23089     1\n",
       "54928     1\n",
       "Name: count, Length: 48075, dtype: int64"
      ]
     },
     "execution_count": 104,
     "metadata": {},
     "output_type": "execute_result"
    }
   ],
   "source": [
    "df3['person_id'].value_counts()"
   ]
  },
  {
   "cell_type": "markdown",
   "id": "00db34f9-ef0e-4da4-99d5-e21abd462c6a",
   "metadata": {},
   "source": [
    "#### Adding Separator at end"
   ]
  },
  {
   "cell_type": "code",
   "execution_count": 105,
   "id": "f7f3285a-271f-48ff-bb36-e93f59e62b90",
   "metadata": {},
   "outputs": [],
   "source": [
    "df3[['institution','program','start_date','location']] = df3[['institution','program','start_date','location']].apply(lambda x: x + ', ')"
   ]
  },
  {
   "cell_type": "markdown",
   "id": "503bedb6-d855-423e-81fc-045fd30b2d0e",
   "metadata": {},
   "source": [
    "#### Grouping by PersonId"
   ]
  },
  {
   "cell_type": "code",
   "execution_count": 106,
   "id": "85303479-9b5c-47d3-a4d3-96cd7f9dac1f",
   "metadata": {},
   "outputs": [],
   "source": [
    "df3 = df3.groupby(by='person_id')[['institution','program','start_date','location']].sum()"
   ]
  },
  {
   "cell_type": "markdown",
   "id": "8921843f-6abf-4b4a-8c18-c7c3d5c30cef",
   "metadata": {},
   "source": [
    "#### Renaming Columns"
   ]
  },
  {
   "cell_type": "code",
   "execution_count": 107,
   "id": "7045d6a6-e233-4475-906c-d96af5efbff2",
   "metadata": {},
   "outputs": [
    {
     "data": {
      "text/html": [
       "<div>\n",
       "<style scoped>\n",
       "    .dataframe tbody tr th:only-of-type {\n",
       "        vertical-align: middle;\n",
       "    }\n",
       "\n",
       "    .dataframe tbody tr th {\n",
       "        vertical-align: top;\n",
       "    }\n",
       "\n",
       "    .dataframe thead th {\n",
       "        text-align: right;\n",
       "    }\n",
       "</style>\n",
       "<table border=\"1\" class=\"dataframe\">\n",
       "  <thead>\n",
       "    <tr style=\"text-align: right;\">\n",
       "      <th></th>\n",
       "      <th>institution</th>\n",
       "      <th>program</th>\n",
       "      <th>education_start_date</th>\n",
       "      <th>education_location</th>\n",
       "    </tr>\n",
       "    <tr>\n",
       "      <th>person_id</th>\n",
       "      <th></th>\n",
       "      <th></th>\n",
       "      <th></th>\n",
       "      <th></th>\n",
       "    </tr>\n",
       "  </thead>\n",
       "  <tbody>\n",
       "    <tr>\n",
       "      <th>1</th>\n",
       "      <td>Lead City University,</td>\n",
       "      <td>Bachelor of Science,</td>\n",
       "      <td>07/2013,</td>\n",
       "      <td>0</td>\n",
       "    </tr>\n",
       "    <tr>\n",
       "      <th>2</th>\n",
       "      <td>lagos state university,</td>\n",
       "      <td>bsc in computer science,</td>\n",
       "      <td>0</td>\n",
       "      <td>Lagos, GU,</td>\n",
       "    </tr>\n",
       "    <tr>\n",
       "      <th>3</th>\n",
       "      <td>JNTU - Kakinada, Andhra Pradesh,</td>\n",
       "      <td>Master of Computer Applications in Science and...</td>\n",
       "      <td>2013,</td>\n",
       "      <td>Kakinada, Andhra Pradesh,</td>\n",
       "    </tr>\n",
       "  </tbody>\n",
       "</table>\n",
       "</div>"
      ],
      "text/plain": [
       "                                 institution  \\\n",
       "person_id                                      \n",
       "1                     Lead City University,    \n",
       "2                   lagos state university,    \n",
       "3          JNTU - Kakinada, Andhra Pradesh,    \n",
       "\n",
       "                                                     program  \\\n",
       "person_id                                                      \n",
       "1                                      Bachelor of Science,    \n",
       "2                                  bsc in computer science,    \n",
       "3          Master of Computer Applications in Science and...   \n",
       "\n",
       "          education_start_date          education_location  \n",
       "person_id                                                   \n",
       "1                    07/2013,                            0  \n",
       "2                            0                 Lagos, GU,   \n",
       "3                       2013,   Kakinada, Andhra Pradesh,   "
      ]
     },
     "execution_count": 107,
     "metadata": {},
     "output_type": "execute_result"
    }
   ],
   "source": [
    "df3.rename(columns={'start_date':'education_start_date', 'location': 'education_location'}, inplace=True)\n",
    "df3.head(3)"
   ]
  },
  {
   "cell_type": "markdown",
   "id": "1b57a1ca-f460-47a5-93d9-d5704966f936",
   "metadata": {},
   "source": [
    "#### Reseting Index"
   ]
  },
  {
   "cell_type": "code",
   "execution_count": 108,
   "id": "6dbc72db-3291-4687-968d-493a8fde9325",
   "metadata": {},
   "outputs": [],
   "source": [
    "df3.reset_index(inplace=True)"
   ]
  },
  {
   "cell_type": "code",
   "execution_count": 109,
   "id": "254e84bd-6594-46e1-941b-1999767c12bc",
   "metadata": {},
   "outputs": [
    {
     "data": {
      "text/html": [
       "<div>\n",
       "<style scoped>\n",
       "    .dataframe tbody tr th:only-of-type {\n",
       "        vertical-align: middle;\n",
       "    }\n",
       "\n",
       "    .dataframe tbody tr th {\n",
       "        vertical-align: top;\n",
       "    }\n",
       "\n",
       "    .dataframe thead th {\n",
       "        text-align: right;\n",
       "    }\n",
       "</style>\n",
       "<table border=\"1\" class=\"dataframe\">\n",
       "  <thead>\n",
       "    <tr style=\"text-align: right;\">\n",
       "      <th></th>\n",
       "      <th>person_id</th>\n",
       "      <th>institution</th>\n",
       "      <th>program</th>\n",
       "      <th>education_start_date</th>\n",
       "      <th>education_location</th>\n",
       "    </tr>\n",
       "  </thead>\n",
       "  <tbody>\n",
       "    <tr>\n",
       "      <th>0</th>\n",
       "      <td>1</td>\n",
       "      <td>Lead City University,</td>\n",
       "      <td>Bachelor of Science,</td>\n",
       "      <td>07/2013,</td>\n",
       "      <td>0</td>\n",
       "    </tr>\n",
       "    <tr>\n",
       "      <th>1</th>\n",
       "      <td>2</td>\n",
       "      <td>lagos state university,</td>\n",
       "      <td>bsc in computer science,</td>\n",
       "      <td>0</td>\n",
       "      <td>Lagos, GU,</td>\n",
       "    </tr>\n",
       "    <tr>\n",
       "      <th>2</th>\n",
       "      <td>3</td>\n",
       "      <td>JNTU - Kakinada, Andhra Pradesh,</td>\n",
       "      <td>Master of Computer Applications in Science and...</td>\n",
       "      <td>2013,</td>\n",
       "      <td>Kakinada, Andhra Pradesh,</td>\n",
       "    </tr>\n",
       "  </tbody>\n",
       "</table>\n",
       "</div>"
      ],
      "text/plain": [
       "   person_id                        institution  \\\n",
       "0          1             Lead City University,    \n",
       "1          2           lagos state university,    \n",
       "2          3  JNTU - Kakinada, Andhra Pradesh,    \n",
       "\n",
       "                                             program education_start_date  \\\n",
       "0                              Bachelor of Science,             07/2013,    \n",
       "1                          bsc in computer science,                     0   \n",
       "2  Master of Computer Applications in Science and...               2013,    \n",
       "\n",
       "           education_location  \n",
       "0                           0  \n",
       "1                 Lagos, GU,   \n",
       "2  Kakinada, Andhra Pradesh,   "
      ]
     },
     "execution_count": 109,
     "metadata": {},
     "output_type": "execute_result"
    }
   ],
   "source": [
    "df3.head(3)"
   ]
  },
  {
   "cell_type": "markdown",
   "id": "c3238a73-fd00-41e0-92e9-3d58b183d246",
   "metadata": {},
   "source": [
    "#### Merging Dataframes"
   ]
  },
  {
   "cell_type": "code",
   "execution_count": 110,
   "id": "c3907ce7-1508-4e5d-99e9-0c869a8a6374",
   "metadata": {},
   "outputs": [
    {
     "data": {
      "text/html": [
       "<div>\n",
       "<style scoped>\n",
       "    .dataframe tbody tr th:only-of-type {\n",
       "        vertical-align: middle;\n",
       "    }\n",
       "\n",
       "    .dataframe tbody tr th {\n",
       "        vertical-align: top;\n",
       "    }\n",
       "\n",
       "    .dataframe thead th {\n",
       "        text-align: right;\n",
       "    }\n",
       "</style>\n",
       "<table border=\"1\" class=\"dataframe\">\n",
       "  <thead>\n",
       "    <tr style=\"text-align: right;\">\n",
       "      <th></th>\n",
       "      <th>person_id</th>\n",
       "      <th>name</th>\n",
       "      <th>ability</th>\n",
       "      <th>institution</th>\n",
       "      <th>program</th>\n",
       "      <th>education_start_date</th>\n",
       "      <th>education_location</th>\n",
       "    </tr>\n",
       "  </thead>\n",
       "  <tbody>\n",
       "    <tr>\n",
       "      <th>0</th>\n",
       "      <td>1</td>\n",
       "      <td>Database Administrator</td>\n",
       "      <td>Installation and Building Server, Running Back...</td>\n",
       "      <td>Lead City University,</td>\n",
       "      <td>Bachelor of Science,</td>\n",
       "      <td>07/2013,</td>\n",
       "      <td>0</td>\n",
       "    </tr>\n",
       "    <tr>\n",
       "      <th>1</th>\n",
       "      <td>2</td>\n",
       "      <td>Database Administrator</td>\n",
       "      <td>database management systems administration, de...</td>\n",
       "      <td>lagos state university,</td>\n",
       "      <td>bsc in computer science,</td>\n",
       "      <td>0</td>\n",
       "      <td>Lagos, GU,</td>\n",
       "    </tr>\n",
       "    <tr>\n",
       "      <th>2</th>\n",
       "      <td>3</td>\n",
       "      <td>Oracle Database Administrator</td>\n",
       "      <td>Over 4+ years of Experience as Architecture, E...</td>\n",
       "      <td>JNTU - Kakinada, Andhra Pradesh,</td>\n",
       "      <td>Master of Computer Applications in Science and...</td>\n",
       "      <td>2013,</td>\n",
       "      <td>Kakinada, Andhra Pradesh,</td>\n",
       "    </tr>\n",
       "  </tbody>\n",
       "</table>\n",
       "</div>"
      ],
      "text/plain": [
       "   person_id                           name  \\\n",
       "0          1         Database Administrator   \n",
       "1          2         Database Administrator   \n",
       "2          3  Oracle Database Administrator   \n",
       "\n",
       "                                             ability  \\\n",
       "0  Installation and Building Server, Running Back...   \n",
       "1  database management systems administration, de...   \n",
       "2  Over 4+ years of Experience as Architecture, E...   \n",
       "\n",
       "                         institution  \\\n",
       "0             Lead City University,    \n",
       "1           lagos state university,    \n",
       "2  JNTU - Kakinada, Andhra Pradesh,    \n",
       "\n",
       "                                             program education_start_date  \\\n",
       "0                              Bachelor of Science,             07/2013,    \n",
       "1                          bsc in computer science,                     0   \n",
       "2  Master of Computer Applications in Science and...               2013,    \n",
       "\n",
       "           education_location  \n",
       "0                           0  \n",
       "1                 Lagos, GU,   \n",
       "2  Kakinada, Andhra Pradesh,   "
      ]
     },
     "execution_count": 110,
     "metadata": {},
     "output_type": "execute_result"
    }
   ],
   "source": [
    "resume_df = pd.merge(resume_df, df3, on='person_id')\n",
    "resume_df.head(3)"
   ]
  },
  {
   "cell_type": "markdown",
   "id": "e116eccd-2344-48ba-8149-c2da0a876ce1",
   "metadata": {},
   "source": [
    "#### Value Counts of PersonId"
   ]
  },
  {
   "cell_type": "code",
   "execution_count": 111,
   "id": "b2baea7e-4231-4610-97a3-72837dc09a4a",
   "metadata": {},
   "outputs": [
    {
     "data": {
      "text/plain": [
       "person_id\n",
       "1        1\n",
       "36626    1\n",
       "36609    1\n",
       "36612    1\n",
       "36613    1\n",
       "        ..\n",
       "18314    1\n",
       "18315    1\n",
       "18316    1\n",
       "18317    1\n",
       "54928    1\n",
       "Name: count, Length: 48072, dtype: int64"
      ]
     },
     "execution_count": 111,
     "metadata": {},
     "output_type": "execute_result"
    }
   ],
   "source": [
    "resume_df['person_id'].value_counts()"
   ]
  },
  {
   "cell_type": "markdown",
   "id": "bc164636-9275-4841-8cfd-ea1f297be97a",
   "metadata": {},
   "source": [
    "### Dataset 4"
   ]
  },
  {
   "cell_type": "code",
   "execution_count": 112,
   "id": "53e25868-f078-427a-8a37-7f26d3c68061",
   "metadata": {},
   "outputs": [
    {
     "data": {
      "text/html": [
       "<div>\n",
       "<style scoped>\n",
       "    .dataframe tbody tr th:only-of-type {\n",
       "        vertical-align: middle;\n",
       "    }\n",
       "\n",
       "    .dataframe tbody tr th {\n",
       "        vertical-align: top;\n",
       "    }\n",
       "\n",
       "    .dataframe thead th {\n",
       "        text-align: right;\n",
       "    }\n",
       "</style>\n",
       "<table border=\"1\" class=\"dataframe\">\n",
       "  <thead>\n",
       "    <tr style=\"text-align: right;\">\n",
       "      <th></th>\n",
       "      <th>person_id</th>\n",
       "      <th>title</th>\n",
       "      <th>firm</th>\n",
       "      <th>start_date</th>\n",
       "      <th>end_date</th>\n",
       "      <th>location</th>\n",
       "    </tr>\n",
       "  </thead>\n",
       "  <tbody>\n",
       "    <tr>\n",
       "      <th>0</th>\n",
       "      <td>1</td>\n",
       "      <td>Database Administrator</td>\n",
       "      <td>Family Private Care LLC</td>\n",
       "      <td>04/2017</td>\n",
       "      <td>Present</td>\n",
       "      <td>Roswell, GA</td>\n",
       "    </tr>\n",
       "    <tr>\n",
       "      <th>1</th>\n",
       "      <td>1</td>\n",
       "      <td>Database Administrator</td>\n",
       "      <td>Incomm</td>\n",
       "      <td>01/2014</td>\n",
       "      <td>02/2017</td>\n",
       "      <td>Alpharetta, GA</td>\n",
       "    </tr>\n",
       "    <tr>\n",
       "      <th>2</th>\n",
       "      <td>2</td>\n",
       "      <td>Database Administrator</td>\n",
       "      <td>Intercontinental Registry</td>\n",
       "      <td>12/2008</td>\n",
       "      <td>08/2011</td>\n",
       "      <td>Lagos, GU</td>\n",
       "    </tr>\n",
       "  </tbody>\n",
       "</table>\n",
       "</div>"
      ],
      "text/plain": [
       "   person_id                   title                       firm start_date  \\\n",
       "0          1  Database Administrator    Family Private Care LLC    04/2017   \n",
       "1          1  Database Administrator                     Incomm    01/2014   \n",
       "2          2  Database Administrator  Intercontinental Registry    12/2008   \n",
       "\n",
       "  end_date        location  \n",
       "0  Present     Roswell, GA  \n",
       "1  02/2017  Alpharetta, GA  \n",
       "2  08/2011       Lagos, GU  "
      ]
     },
     "execution_count": 112,
     "metadata": {},
     "output_type": "execute_result"
    }
   ],
   "source": [
    "df4 = pd.read_csv('04_experience.csv')\n",
    "df4.head(3)"
   ]
  },
  {
   "cell_type": "markdown",
   "id": "f87d8bc5-2d02-4cf0-9ec0-a11d4d32f4a8",
   "metadata": {},
   "source": [
    "#### Dropping Unwanted Cols"
   ]
  },
  {
   "cell_type": "code",
   "execution_count": 113,
   "id": "9d4c3d91-4035-432f-beb5-41dcbc50016d",
   "metadata": {},
   "outputs": [],
   "source": [
    "df4.drop(columns='location', inplace=True)"
   ]
  },
  {
   "cell_type": "markdown",
   "id": "86e6f087-b1b9-4aba-8828-26270de2d75e",
   "metadata": {},
   "source": [
    "#### Adding Separator at end"
   ]
  },
  {
   "cell_type": "code",
   "execution_count": 114,
   "id": "176a2e01-a3f9-4f7b-a878-02e52feff649",
   "metadata": {},
   "outputs": [],
   "source": [
    "df4[['title','firm','start_date','end_date']] = df4[['title','firm','start_date','end_date']].apply(lambda x: x + ', ')"
   ]
  },
  {
   "cell_type": "markdown",
   "id": "c4086289-fa7c-4405-b482-262e263a960a",
   "metadata": {},
   "source": [
    "#### Grouping by PersonId"
   ]
  },
  {
   "cell_type": "code",
   "execution_count": 115,
   "id": "56cd038e-e8cc-483d-bdd2-534f6c306c1a",
   "metadata": {},
   "outputs": [],
   "source": [
    "df4 = df4.groupby(by = 'person_id')[['title','firm','start_date','end_date']].sum()"
   ]
  },
  {
   "cell_type": "markdown",
   "id": "6e280447-4170-40d3-a4a2-5c624050feaa",
   "metadata": {},
   "source": [
    "#### Renaming Cols"
   ]
  },
  {
   "cell_type": "code",
   "execution_count": 116,
   "id": "8d64ff51-7c2c-460b-9cb5-e81df7ffc93e",
   "metadata": {},
   "outputs": [],
   "source": [
    "df4.rename(columns={'title':'roles','firm':'company','start_date':'experience_start_date','end_date':'experience_end_date'}, inplace = True)"
   ]
  },
  {
   "cell_type": "markdown",
   "id": "10288906-22f9-46b9-8915-a6b7c96d02fe",
   "metadata": {},
   "source": [
    "#### Reseting Index"
   ]
  },
  {
   "cell_type": "code",
   "execution_count": 117,
   "id": "cfebebd6-b2dd-41b1-9f5d-01b2994b013a",
   "metadata": {},
   "outputs": [],
   "source": [
    "df4.reset_index(inplace=True)"
   ]
  },
  {
   "cell_type": "code",
   "execution_count": 118,
   "id": "259f7105-760d-4f22-bae7-acd34c859095",
   "metadata": {},
   "outputs": [
    {
     "data": {
      "text/html": [
       "<div>\n",
       "<style scoped>\n",
       "    .dataframe tbody tr th:only-of-type {\n",
       "        vertical-align: middle;\n",
       "    }\n",
       "\n",
       "    .dataframe tbody tr th {\n",
       "        vertical-align: top;\n",
       "    }\n",
       "\n",
       "    .dataframe thead th {\n",
       "        text-align: right;\n",
       "    }\n",
       "</style>\n",
       "<table border=\"1\" class=\"dataframe\">\n",
       "  <thead>\n",
       "    <tr style=\"text-align: right;\">\n",
       "      <th></th>\n",
       "      <th>person_id</th>\n",
       "      <th>roles</th>\n",
       "      <th>company</th>\n",
       "      <th>experience_start_date</th>\n",
       "      <th>experience_end_date</th>\n",
       "    </tr>\n",
       "  </thead>\n",
       "  <tbody>\n",
       "    <tr>\n",
       "      <th>0</th>\n",
       "      <td>1</td>\n",
       "      <td>Database Administrator, Database Administrator,</td>\n",
       "      <td>Family Private Care LLC, Incomm,</td>\n",
       "      <td>04/2017, 01/2014,</td>\n",
       "      <td>Present, 02/2017,</td>\n",
       "    </tr>\n",
       "    <tr>\n",
       "      <th>1</th>\n",
       "      <td>2</td>\n",
       "      <td>Database Administrator,</td>\n",
       "      <td>Intercontinental Registry,</td>\n",
       "      <td>12/2008,</td>\n",
       "      <td>08/2011,</td>\n",
       "    </tr>\n",
       "    <tr>\n",
       "      <th>2</th>\n",
       "      <td>3</td>\n",
       "      <td>Oracle Database Administrator, Oracle Database...</td>\n",
       "      <td>Cognizant, Convergys,</td>\n",
       "      <td>06/2016, 06/2014,</td>\n",
       "      <td>Present, 06/2016,</td>\n",
       "    </tr>\n",
       "  </tbody>\n",
       "</table>\n",
       "</div>"
      ],
      "text/plain": [
       "   person_id                                              roles  \\\n",
       "0          1   Database Administrator, Database Administrator,    \n",
       "1          2                           Database Administrator,    \n",
       "2          3  Oracle Database Administrator, Oracle Database...   \n",
       "\n",
       "                             company experience_start_date experience_end_date  \n",
       "0  Family Private Care LLC, Incomm,     04/2017, 01/2014,   Present, 02/2017,   \n",
       "1        Intercontinental Registry,              12/2008,            08/2011,   \n",
       "2             Cognizant, Convergys,     06/2016, 06/2014,   Present, 06/2016,   "
      ]
     },
     "execution_count": 118,
     "metadata": {},
     "output_type": "execute_result"
    }
   ],
   "source": [
    "df4.head(3)"
   ]
  },
  {
   "cell_type": "markdown",
   "id": "d2a8dd33-c888-4b7e-8176-07a798e1017c",
   "metadata": {},
   "source": [
    "#### Merging Dataframes"
   ]
  },
  {
   "cell_type": "code",
   "execution_count": 119,
   "id": "ad23aecb-2aba-45b7-a847-1e51bf8e0c21",
   "metadata": {},
   "outputs": [
    {
     "data": {
      "text/html": [
       "<div>\n",
       "<style scoped>\n",
       "    .dataframe tbody tr th:only-of-type {\n",
       "        vertical-align: middle;\n",
       "    }\n",
       "\n",
       "    .dataframe tbody tr th {\n",
       "        vertical-align: top;\n",
       "    }\n",
       "\n",
       "    .dataframe thead th {\n",
       "        text-align: right;\n",
       "    }\n",
       "</style>\n",
       "<table border=\"1\" class=\"dataframe\">\n",
       "  <thead>\n",
       "    <tr style=\"text-align: right;\">\n",
       "      <th></th>\n",
       "      <th>person_id</th>\n",
       "      <th>name</th>\n",
       "      <th>ability</th>\n",
       "      <th>institution</th>\n",
       "      <th>program</th>\n",
       "      <th>education_start_date</th>\n",
       "      <th>education_location</th>\n",
       "      <th>roles</th>\n",
       "      <th>company</th>\n",
       "      <th>experience_start_date</th>\n",
       "      <th>experience_end_date</th>\n",
       "    </tr>\n",
       "  </thead>\n",
       "  <tbody>\n",
       "    <tr>\n",
       "      <th>0</th>\n",
       "      <td>1</td>\n",
       "      <td>Database Administrator</td>\n",
       "      <td>Installation and Building Server, Running Back...</td>\n",
       "      <td>Lead City University,</td>\n",
       "      <td>Bachelor of Science,</td>\n",
       "      <td>07/2013,</td>\n",
       "      <td>0</td>\n",
       "      <td>Database Administrator, Database Administrator,</td>\n",
       "      <td>Family Private Care LLC, Incomm,</td>\n",
       "      <td>04/2017, 01/2014,</td>\n",
       "      <td>Present, 02/2017,</td>\n",
       "    </tr>\n",
       "    <tr>\n",
       "      <th>1</th>\n",
       "      <td>2</td>\n",
       "      <td>Database Administrator</td>\n",
       "      <td>database management systems administration, de...</td>\n",
       "      <td>lagos state university,</td>\n",
       "      <td>bsc in computer science,</td>\n",
       "      <td>0</td>\n",
       "      <td>Lagos, GU,</td>\n",
       "      <td>Database Administrator,</td>\n",
       "      <td>Intercontinental Registry,</td>\n",
       "      <td>12/2008,</td>\n",
       "      <td>08/2011,</td>\n",
       "    </tr>\n",
       "    <tr>\n",
       "      <th>2</th>\n",
       "      <td>3</td>\n",
       "      <td>Oracle Database Administrator</td>\n",
       "      <td>Over 4+ years of Experience as Architecture, E...</td>\n",
       "      <td>JNTU - Kakinada, Andhra Pradesh,</td>\n",
       "      <td>Master of Computer Applications in Science and...</td>\n",
       "      <td>2013,</td>\n",
       "      <td>Kakinada, Andhra Pradesh,</td>\n",
       "      <td>Oracle Database Administrator, Oracle Database...</td>\n",
       "      <td>Cognizant, Convergys,</td>\n",
       "      <td>06/2016, 06/2014,</td>\n",
       "      <td>Present, 06/2016,</td>\n",
       "    </tr>\n",
       "  </tbody>\n",
       "</table>\n",
       "</div>"
      ],
      "text/plain": [
       "   person_id                           name  \\\n",
       "0          1         Database Administrator   \n",
       "1          2         Database Administrator   \n",
       "2          3  Oracle Database Administrator   \n",
       "\n",
       "                                             ability  \\\n",
       "0  Installation and Building Server, Running Back...   \n",
       "1  database management systems administration, de...   \n",
       "2  Over 4+ years of Experience as Architecture, E...   \n",
       "\n",
       "                         institution  \\\n",
       "0             Lead City University,    \n",
       "1           lagos state university,    \n",
       "2  JNTU - Kakinada, Andhra Pradesh,    \n",
       "\n",
       "                                             program education_start_date  \\\n",
       "0                              Bachelor of Science,             07/2013,    \n",
       "1                          bsc in computer science,                     0   \n",
       "2  Master of Computer Applications in Science and...               2013,    \n",
       "\n",
       "           education_location  \\\n",
       "0                           0   \n",
       "1                 Lagos, GU,    \n",
       "2  Kakinada, Andhra Pradesh,    \n",
       "\n",
       "                                               roles  \\\n",
       "0   Database Administrator, Database Administrator,    \n",
       "1                           Database Administrator,    \n",
       "2  Oracle Database Administrator, Oracle Database...   \n",
       "\n",
       "                             company experience_start_date experience_end_date  \n",
       "0  Family Private Care LLC, Incomm,     04/2017, 01/2014,   Present, 02/2017,   \n",
       "1        Intercontinental Registry,              12/2008,            08/2011,   \n",
       "2             Cognizant, Convergys,     06/2016, 06/2014,   Present, 06/2016,   "
      ]
     },
     "execution_count": 119,
     "metadata": {},
     "output_type": "execute_result"
    }
   ],
   "source": [
    "resume_df = pd.merge(resume_df, df4, on = 'person_id')\n",
    "resume_df.head(3)"
   ]
  },
  {
   "cell_type": "markdown",
   "id": "ce4e101b-e83a-4b15-b87e-e5ed1fb5782f",
   "metadata": {},
   "source": [
    "### Dataset 5"
   ]
  },
  {
   "cell_type": "code",
   "execution_count": 120,
   "id": "497c94de-3669-441c-9db8-343b4d241b90",
   "metadata": {},
   "outputs": [
    {
     "data": {
      "text/html": [
       "<div>\n",
       "<style scoped>\n",
       "    .dataframe tbody tr th:only-of-type {\n",
       "        vertical-align: middle;\n",
       "    }\n",
       "\n",
       "    .dataframe tbody tr th {\n",
       "        vertical-align: top;\n",
       "    }\n",
       "\n",
       "    .dataframe thead th {\n",
       "        text-align: right;\n",
       "    }\n",
       "</style>\n",
       "<table border=\"1\" class=\"dataframe\">\n",
       "  <thead>\n",
       "    <tr style=\"text-align: right;\">\n",
       "      <th></th>\n",
       "      <th>person_id</th>\n",
       "      <th>skill</th>\n",
       "    </tr>\n",
       "  </thead>\n",
       "  <tbody>\n",
       "    <tr>\n",
       "      <th>0</th>\n",
       "      <td>1</td>\n",
       "      <td>Database administration</td>\n",
       "    </tr>\n",
       "    <tr>\n",
       "      <th>1</th>\n",
       "      <td>1</td>\n",
       "      <td>Database</td>\n",
       "    </tr>\n",
       "    <tr>\n",
       "      <th>2</th>\n",
       "      <td>1</td>\n",
       "      <td>Ms sql server</td>\n",
       "    </tr>\n",
       "  </tbody>\n",
       "</table>\n",
       "</div>"
      ],
      "text/plain": [
       "   person_id                    skill\n",
       "0          1  Database administration\n",
       "1          1                 Database\n",
       "2          1            Ms sql server"
      ]
     },
     "execution_count": 120,
     "metadata": {},
     "output_type": "execute_result"
    }
   ],
   "source": [
    "df5 = pd.read_csv('05_person_skills.csv')\n",
    "df5.head(3)"
   ]
  },
  {
   "cell_type": "markdown",
   "id": "c316008f-0b01-4537-b787-b7fdd10b5cc5",
   "metadata": {},
   "source": [
    "#### Adding Separator at end"
   ]
  },
  {
   "cell_type": "code",
   "execution_count": 121,
   "id": "8c1bfc85-ed7f-4780-a12b-f0c38477ec63",
   "metadata": {},
   "outputs": [],
   "source": [
    "df5['skill'] = df5['skill'].apply(lambda x: str(x) + ', ')"
   ]
  },
  {
   "cell_type": "code",
   "execution_count": 122,
   "id": "81873e8b-1f8e-42db-b88e-e234e54a7786",
   "metadata": {},
   "outputs": [
    {
     "data": {
      "text/html": [
       "<div>\n",
       "<style scoped>\n",
       "    .dataframe tbody tr th:only-of-type {\n",
       "        vertical-align: middle;\n",
       "    }\n",
       "\n",
       "    .dataframe tbody tr th {\n",
       "        vertical-align: top;\n",
       "    }\n",
       "\n",
       "    .dataframe thead th {\n",
       "        text-align: right;\n",
       "    }\n",
       "</style>\n",
       "<table border=\"1\" class=\"dataframe\">\n",
       "  <thead>\n",
       "    <tr style=\"text-align: right;\">\n",
       "      <th></th>\n",
       "      <th>person_id</th>\n",
       "      <th>skill</th>\n",
       "    </tr>\n",
       "  </thead>\n",
       "  <tbody>\n",
       "    <tr>\n",
       "      <th>0</th>\n",
       "      <td>1</td>\n",
       "      <td>Database administration,</td>\n",
       "    </tr>\n",
       "    <tr>\n",
       "      <th>1</th>\n",
       "      <td>1</td>\n",
       "      <td>Database,</td>\n",
       "    </tr>\n",
       "    <tr>\n",
       "      <th>2</th>\n",
       "      <td>1</td>\n",
       "      <td>Ms sql server,</td>\n",
       "    </tr>\n",
       "  </tbody>\n",
       "</table>\n",
       "</div>"
      ],
      "text/plain": [
       "   person_id                      skill\n",
       "0          1  Database administration, \n",
       "1          1                 Database, \n",
       "2          1            Ms sql server, "
      ]
     },
     "execution_count": 122,
     "metadata": {},
     "output_type": "execute_result"
    }
   ],
   "source": [
    "df5.head(3)"
   ]
  },
  {
   "cell_type": "markdown",
   "id": "de48f42c-ee5e-4b57-9a79-03c92243a231",
   "metadata": {},
   "source": [
    "#### Grouping by PersonId"
   ]
  },
  {
   "cell_type": "code",
   "execution_count": 123,
   "id": "99586899-7e41-4df4-85c1-2b34260e3425",
   "metadata": {},
   "outputs": [],
   "source": [
    "df5 = pd.DataFrame(df5.groupby(by='person_id')['skill'].sum())"
   ]
  },
  {
   "cell_type": "markdown",
   "id": "e5219fb3-fa65-4324-9df8-06736851f8f8",
   "metadata": {},
   "source": [
    "#### Reseting Index"
   ]
  },
  {
   "cell_type": "code",
   "execution_count": 124,
   "id": "4ac23fe9-478a-4aa0-b7d1-a76cbc3b9237",
   "metadata": {},
   "outputs": [],
   "source": [
    "df5.reset_index(inplace=True)"
   ]
  },
  {
   "cell_type": "code",
   "execution_count": 125,
   "id": "ab9fd175-5b37-4a2e-a8fd-e815e70355d5",
   "metadata": {},
   "outputs": [
    {
     "data": {
      "text/html": [
       "<div>\n",
       "<style scoped>\n",
       "    .dataframe tbody tr th:only-of-type {\n",
       "        vertical-align: middle;\n",
       "    }\n",
       "\n",
       "    .dataframe tbody tr th {\n",
       "        vertical-align: top;\n",
       "    }\n",
       "\n",
       "    .dataframe thead th {\n",
       "        text-align: right;\n",
       "    }\n",
       "</style>\n",
       "<table border=\"1\" class=\"dataframe\">\n",
       "  <thead>\n",
       "    <tr style=\"text-align: right;\">\n",
       "      <th></th>\n",
       "      <th>person_id</th>\n",
       "      <th>skill</th>\n",
       "    </tr>\n",
       "  </thead>\n",
       "  <tbody>\n",
       "    <tr>\n",
       "      <th>0</th>\n",
       "      <td>1</td>\n",
       "      <td>Database administration, Database, Ms sql serv...</td>\n",
       "    </tr>\n",
       "    <tr>\n",
       "      <th>1</th>\n",
       "      <td>2</td>\n",
       "      <td>sql server management studio, visual studio, s...</td>\n",
       "    </tr>\n",
       "    <tr>\n",
       "      <th>2</th>\n",
       "      <td>3</td>\n",
       "      <td>DATABASES, ORACLE (4 years), ORACLE 10G, SQL, ...</td>\n",
       "    </tr>\n",
       "  </tbody>\n",
       "</table>\n",
       "</div>"
      ],
      "text/plain": [
       "   person_id                                              skill\n",
       "0          1  Database administration, Database, Ms sql serv...\n",
       "1          2  sql server management studio, visual studio, s...\n",
       "2          3  DATABASES, ORACLE (4 years), ORACLE 10G, SQL, ..."
      ]
     },
     "execution_count": 125,
     "metadata": {},
     "output_type": "execute_result"
    }
   ],
   "source": [
    "df5.head(3)"
   ]
  },
  {
   "cell_type": "markdown",
   "id": "99dcf19c-7928-416c-96fd-49b24ae948c3",
   "metadata": {},
   "source": [
    "#### Merging Dataframes"
   ]
  },
  {
   "cell_type": "code",
   "execution_count": 126,
   "id": "3f136c1e-dff9-4ad3-a94a-5ecc261003d7",
   "metadata": {},
   "outputs": [
    {
     "data": {
      "text/html": [
       "<div>\n",
       "<style scoped>\n",
       "    .dataframe tbody tr th:only-of-type {\n",
       "        vertical-align: middle;\n",
       "    }\n",
       "\n",
       "    .dataframe tbody tr th {\n",
       "        vertical-align: top;\n",
       "    }\n",
       "\n",
       "    .dataframe thead th {\n",
       "        text-align: right;\n",
       "    }\n",
       "</style>\n",
       "<table border=\"1\" class=\"dataframe\">\n",
       "  <thead>\n",
       "    <tr style=\"text-align: right;\">\n",
       "      <th></th>\n",
       "      <th>person_id</th>\n",
       "      <th>name</th>\n",
       "      <th>ability</th>\n",
       "      <th>institution</th>\n",
       "      <th>program</th>\n",
       "      <th>education_start_date</th>\n",
       "      <th>education_location</th>\n",
       "      <th>roles</th>\n",
       "      <th>company</th>\n",
       "      <th>experience_start_date</th>\n",
       "      <th>experience_end_date</th>\n",
       "      <th>skill</th>\n",
       "    </tr>\n",
       "  </thead>\n",
       "  <tbody>\n",
       "    <tr>\n",
       "      <th>0</th>\n",
       "      <td>1</td>\n",
       "      <td>Database Administrator</td>\n",
       "      <td>Installation and Building Server, Running Back...</td>\n",
       "      <td>Lead City University,</td>\n",
       "      <td>Bachelor of Science,</td>\n",
       "      <td>07/2013,</td>\n",
       "      <td>0</td>\n",
       "      <td>Database Administrator, Database Administrator,</td>\n",
       "      <td>Family Private Care LLC, Incomm,</td>\n",
       "      <td>04/2017, 01/2014,</td>\n",
       "      <td>Present, 02/2017,</td>\n",
       "      <td>Database administration, Database, Ms sql serv...</td>\n",
       "    </tr>\n",
       "    <tr>\n",
       "      <th>1</th>\n",
       "      <td>2</td>\n",
       "      <td>Database Administrator</td>\n",
       "      <td>database management systems administration, de...</td>\n",
       "      <td>lagos state university,</td>\n",
       "      <td>bsc in computer science,</td>\n",
       "      <td>0</td>\n",
       "      <td>Lagos, GU,</td>\n",
       "      <td>Database Administrator,</td>\n",
       "      <td>Intercontinental Registry,</td>\n",
       "      <td>12/2008,</td>\n",
       "      <td>08/2011,</td>\n",
       "      <td>sql server management studio, visual studio, s...</td>\n",
       "    </tr>\n",
       "    <tr>\n",
       "      <th>2</th>\n",
       "      <td>3</td>\n",
       "      <td>Oracle Database Administrator</td>\n",
       "      <td>Over 4+ years of Experience as Architecture, E...</td>\n",
       "      <td>JNTU - Kakinada, Andhra Pradesh,</td>\n",
       "      <td>Master of Computer Applications in Science and...</td>\n",
       "      <td>2013,</td>\n",
       "      <td>Kakinada, Andhra Pradesh,</td>\n",
       "      <td>Oracle Database Administrator, Oracle Database...</td>\n",
       "      <td>Cognizant, Convergys,</td>\n",
       "      <td>06/2016, 06/2014,</td>\n",
       "      <td>Present, 06/2016,</td>\n",
       "      <td>DATABASES, ORACLE (4 years), ORACLE 10G, SQL, ...</td>\n",
       "    </tr>\n",
       "  </tbody>\n",
       "</table>\n",
       "</div>"
      ],
      "text/plain": [
       "   person_id                           name  \\\n",
       "0          1         Database Administrator   \n",
       "1          2         Database Administrator   \n",
       "2          3  Oracle Database Administrator   \n",
       "\n",
       "                                             ability  \\\n",
       "0  Installation and Building Server, Running Back...   \n",
       "1  database management systems administration, de...   \n",
       "2  Over 4+ years of Experience as Architecture, E...   \n",
       "\n",
       "                         institution  \\\n",
       "0             Lead City University,    \n",
       "1           lagos state university,    \n",
       "2  JNTU - Kakinada, Andhra Pradesh,    \n",
       "\n",
       "                                             program education_start_date  \\\n",
       "0                              Bachelor of Science,             07/2013,    \n",
       "1                          bsc in computer science,                     0   \n",
       "2  Master of Computer Applications in Science and...               2013,    \n",
       "\n",
       "           education_location  \\\n",
       "0                           0   \n",
       "1                 Lagos, GU,    \n",
       "2  Kakinada, Andhra Pradesh,    \n",
       "\n",
       "                                               roles  \\\n",
       "0   Database Administrator, Database Administrator,    \n",
       "1                           Database Administrator,    \n",
       "2  Oracle Database Administrator, Oracle Database...   \n",
       "\n",
       "                             company experience_start_date  \\\n",
       "0  Family Private Care LLC, Incomm,     04/2017, 01/2014,    \n",
       "1        Intercontinental Registry,              12/2008,    \n",
       "2             Cognizant, Convergys,     06/2016, 06/2014,    \n",
       "\n",
       "  experience_end_date                                              skill  \n",
       "0  Present, 02/2017,   Database administration, Database, Ms sql serv...  \n",
       "1           08/2011,   sql server management studio, visual studio, s...  \n",
       "2  Present, 06/2016,   DATABASES, ORACLE (4 years), ORACLE 10G, SQL, ...  "
      ]
     },
     "execution_count": 126,
     "metadata": {},
     "output_type": "execute_result"
    }
   ],
   "source": [
    "resume_df = pd.merge(resume_df, df5, on='person_id')\n",
    "resume_df.head(3)"
   ]
  },
  {
   "cell_type": "markdown",
   "id": "bef78471-dac7-46b5-8d7d-8143b7c2b164",
   "metadata": {},
   "source": [
    "#### Value Counts of PersonId"
   ]
  },
  {
   "cell_type": "code",
   "execution_count": 127,
   "id": "c64b8b67-850c-4634-8748-93f21622382d",
   "metadata": {},
   "outputs": [
    {
     "data": {
      "text/plain": [
       "person_id\n",
       "1        1\n",
       "36626    1\n",
       "36609    1\n",
       "36612    1\n",
       "36613    1\n",
       "        ..\n",
       "18314    1\n",
       "18315    1\n",
       "18316    1\n",
       "18317    1\n",
       "54928    1\n",
       "Name: count, Length: 48000, dtype: int64"
      ]
     },
     "execution_count": 127,
     "metadata": {},
     "output_type": "execute_result"
    }
   ],
   "source": [
    "resume_df['person_id'].value_counts()"
   ]
  },
  {
   "cell_type": "markdown",
   "id": "fcf99474-0c5b-43a7-bb80-4264b38a188d",
   "metadata": {},
   "source": [
    "## Data Cleaning"
   ]
  },
  {
   "cell_type": "markdown",
   "id": "171bee96-562d-4340-bd09-76fb97633dca",
   "metadata": {},
   "source": [
    "#### Remove Duplicates"
   ]
  },
  {
   "cell_type": "code",
   "execution_count": 128,
   "id": "3b6c4af5-8803-41a4-8305-3843e3a97a96",
   "metadata": {},
   "outputs": [
    {
     "data": {
      "text/plain": [
       "0"
      ]
     },
     "execution_count": 128,
     "metadata": {},
     "output_type": "execute_result"
    }
   ],
   "source": [
    "resume_df.duplicated().sum()"
   ]
  },
  {
   "cell_type": "markdown",
   "id": "50f89107-b969-454a-b74f-f0dabed07cff",
   "metadata": {},
   "source": [
    "#### Shape"
   ]
  },
  {
   "cell_type": "code",
   "execution_count": 129,
   "id": "d56328d2-93b9-443d-bf9e-0bb6a9da1231",
   "metadata": {},
   "outputs": [
    {
     "data": {
      "text/plain": [
       "(48000, 12)"
      ]
     },
     "execution_count": 129,
     "metadata": {},
     "output_type": "execute_result"
    }
   ],
   "source": [
    "resume_df.shape"
   ]
  },
  {
   "cell_type": "markdown",
   "id": "baf7e2cd-e2f7-4e88-ad10-ea0744616ff4",
   "metadata": {},
   "source": [
    "#### Nulls"
   ]
  },
  {
   "cell_type": "code",
   "execution_count": 130,
   "id": "7a7c8ab2-d2f0-4b55-8d4a-651a3e2b86a8",
   "metadata": {},
   "outputs": [
    {
     "data": {
      "text/plain": [
       "person_id                  0\n",
       "name                     102\n",
       "ability                    0\n",
       "institution                0\n",
       "program                    0\n",
       "education_start_date       0\n",
       "education_location         0\n",
       "roles                      0\n",
       "company                    0\n",
       "experience_start_date      0\n",
       "experience_end_date        0\n",
       "skill                      0\n",
       "dtype: int64"
      ]
     },
     "execution_count": 130,
     "metadata": {},
     "output_type": "execute_result"
    }
   ],
   "source": [
    "resume_df.isnull().sum()"
   ]
  },
  {
   "cell_type": "markdown",
   "id": "54200cc1-3e4a-49b1-b02a-357b835d5e26",
   "metadata": {},
   "source": [
    "#### Remove Nulls"
   ]
  },
  {
   "cell_type": "code",
   "execution_count": 131,
   "id": "29c04d36-034f-4080-a9e4-eb1b838268e4",
   "metadata": {},
   "outputs": [],
   "source": [
    "resume_df.dropna(inplace=True, ignore_index=True)"
   ]
  },
  {
   "cell_type": "code",
   "execution_count": 132,
   "id": "4d61d175-348c-4ea6-934b-1bd435304169",
   "metadata": {},
   "outputs": [
    {
     "data": {
      "text/plain": [
       "(47898, 12)"
      ]
     },
     "execution_count": 132,
     "metadata": {},
     "output_type": "execute_result"
    }
   ],
   "source": [
    "resume_df.shape"
   ]
  },
  {
   "cell_type": "markdown",
   "id": "6ab40efe-c182-4757-9d2c-5d06368aa4dd",
   "metadata": {},
   "source": [
    "#### Rename Columns"
   ]
  },
  {
   "cell_type": "code",
   "execution_count": 133,
   "id": "09800d77-d89e-482c-9999-bd051680ed9d",
   "metadata": {},
   "outputs": [],
   "source": [
    "resume_df.rename(columns={'person_id':'Person_ID', 'name':'Name', 'ability':'Abilities', 'institution':'Studied_In', 'program':'Program_Studied',\n",
    "                          'education_start_date':'Education_Start_Date', 'education_location':'Education_Location', 'roles':'Roles', \n",
    "                          'company':'Companies', 'experience_start_date':'Experience_Start_Dates', 'experience_end_date':'Experience_End_Dates',\n",
    "                          'skill':'Skills'}, inplace=True)"
   ]
  },
  {
   "cell_type": "code",
   "execution_count": 134,
   "id": "83c3073f-8df2-4869-8686-b6b03d990fb8",
   "metadata": {},
   "outputs": [
    {
     "data": {
      "text/plain": [
       "Index(['Person_ID', 'Name', 'Abilities', 'Studied_In', 'Program_Studied',\n",
       "       'Education_Start_Date', 'Education_Location', 'Roles', 'Companies',\n",
       "       'Experience_Start_Dates', 'Experience_End_Dates', 'Skills'],\n",
       "      dtype='object')"
      ]
     },
     "execution_count": 134,
     "metadata": {},
     "output_type": "execute_result"
    }
   ],
   "source": [
    "resume_df.columns"
   ]
  },
  {
   "cell_type": "code",
   "execution_count": 135,
   "id": "dad82cd6-d227-4e57-82ad-d60810b0260b",
   "metadata": {},
   "outputs": [
    {
     "data": {
      "text/html": [
       "<div>\n",
       "<style scoped>\n",
       "    .dataframe tbody tr th:only-of-type {\n",
       "        vertical-align: middle;\n",
       "    }\n",
       "\n",
       "    .dataframe tbody tr th {\n",
       "        vertical-align: top;\n",
       "    }\n",
       "\n",
       "    .dataframe thead th {\n",
       "        text-align: right;\n",
       "    }\n",
       "</style>\n",
       "<table border=\"1\" class=\"dataframe\">\n",
       "  <thead>\n",
       "    <tr style=\"text-align: right;\">\n",
       "      <th></th>\n",
       "      <th>Person_ID</th>\n",
       "      <th>Name</th>\n",
       "      <th>Abilities</th>\n",
       "      <th>Studied_In</th>\n",
       "      <th>Program_Studied</th>\n",
       "      <th>Education_Start_Date</th>\n",
       "      <th>Education_Location</th>\n",
       "      <th>Roles</th>\n",
       "      <th>Companies</th>\n",
       "      <th>Experience_Start_Dates</th>\n",
       "      <th>Experience_End_Dates</th>\n",
       "      <th>Skills</th>\n",
       "    </tr>\n",
       "  </thead>\n",
       "  <tbody>\n",
       "    <tr>\n",
       "      <th>0</th>\n",
       "      <td>1</td>\n",
       "      <td>Database Administrator</td>\n",
       "      <td>Installation and Building Server, Running Back...</td>\n",
       "      <td>Lead City University,</td>\n",
       "      <td>Bachelor of Science,</td>\n",
       "      <td>07/2013,</td>\n",
       "      <td>0</td>\n",
       "      <td>Database Administrator, Database Administrator,</td>\n",
       "      <td>Family Private Care LLC, Incomm,</td>\n",
       "      <td>04/2017, 01/2014,</td>\n",
       "      <td>Present, 02/2017,</td>\n",
       "      <td>Database administration, Database, Ms sql serv...</td>\n",
       "    </tr>\n",
       "    <tr>\n",
       "      <th>1</th>\n",
       "      <td>2</td>\n",
       "      <td>Database Administrator</td>\n",
       "      <td>database management systems administration, de...</td>\n",
       "      <td>lagos state university,</td>\n",
       "      <td>bsc in computer science,</td>\n",
       "      <td>0</td>\n",
       "      <td>Lagos, GU,</td>\n",
       "      <td>Database Administrator,</td>\n",
       "      <td>Intercontinental Registry,</td>\n",
       "      <td>12/2008,</td>\n",
       "      <td>08/2011,</td>\n",
       "      <td>sql server management studio, visual studio, s...</td>\n",
       "    </tr>\n",
       "    <tr>\n",
       "      <th>2</th>\n",
       "      <td>3</td>\n",
       "      <td>Oracle Database Administrator</td>\n",
       "      <td>Over 4+ years of Experience as Architecture, E...</td>\n",
       "      <td>JNTU - Kakinada, Andhra Pradesh,</td>\n",
       "      <td>Master of Computer Applications in Science and...</td>\n",
       "      <td>2013,</td>\n",
       "      <td>Kakinada, Andhra Pradesh,</td>\n",
       "      <td>Oracle Database Administrator, Oracle Database...</td>\n",
       "      <td>Cognizant, Convergys,</td>\n",
       "      <td>06/2016, 06/2014,</td>\n",
       "      <td>Present, 06/2016,</td>\n",
       "      <td>DATABASES, ORACLE (4 years), ORACLE 10G, SQL, ...</td>\n",
       "    </tr>\n",
       "  </tbody>\n",
       "</table>\n",
       "</div>"
      ],
      "text/plain": [
       "   Person_ID                           Name  \\\n",
       "0          1         Database Administrator   \n",
       "1          2         Database Administrator   \n",
       "2          3  Oracle Database Administrator   \n",
       "\n",
       "                                           Abilities  \\\n",
       "0  Installation and Building Server, Running Back...   \n",
       "1  database management systems administration, de...   \n",
       "2  Over 4+ years of Experience as Architecture, E...   \n",
       "\n",
       "                          Studied_In  \\\n",
       "0             Lead City University,    \n",
       "1           lagos state university,    \n",
       "2  JNTU - Kakinada, Andhra Pradesh,    \n",
       "\n",
       "                                     Program_Studied Education_Start_Date  \\\n",
       "0                              Bachelor of Science,             07/2013,    \n",
       "1                          bsc in computer science,                     0   \n",
       "2  Master of Computer Applications in Science and...               2013,    \n",
       "\n",
       "           Education_Location  \\\n",
       "0                           0   \n",
       "1                 Lagos, GU,    \n",
       "2  Kakinada, Andhra Pradesh,    \n",
       "\n",
       "                                               Roles  \\\n",
       "0   Database Administrator, Database Administrator,    \n",
       "1                           Database Administrator,    \n",
       "2  Oracle Database Administrator, Oracle Database...   \n",
       "\n",
       "                           Companies Experience_Start_Dates  \\\n",
       "0  Family Private Care LLC, Incomm,      04/2017, 01/2014,    \n",
       "1        Intercontinental Registry,               12/2008,    \n",
       "2             Cognizant, Convergys,      06/2016, 06/2014,    \n",
       "\n",
       "  Experience_End_Dates                                             Skills  \n",
       "0   Present, 02/2017,   Database administration, Database, Ms sql serv...  \n",
       "1            08/2011,   sql server management studio, visual studio, s...  \n",
       "2   Present, 06/2016,   DATABASES, ORACLE (4 years), ORACLE 10G, SQL, ...  "
      ]
     },
     "execution_count": 135,
     "metadata": {},
     "output_type": "execute_result"
    }
   ],
   "source": [
    "resume_df.head(3)"
   ]
  },
  {
   "cell_type": "markdown",
   "id": "50334289-2185-4e6a-8406-afcc7d8a0ff4",
   "metadata": {},
   "source": [
    "#### Drop Unwanted Columns"
   ]
  },
  {
   "cell_type": "code",
   "execution_count": 136,
   "id": "3a92a02d-a9aa-48da-815e-d2758cdb309c",
   "metadata": {},
   "outputs": [],
   "source": [
    "resume_df.drop(columns=['Person_ID','Education_Start_Date','Education_Location'], inplace=True)"
   ]
  },
  {
   "cell_type": "code",
   "execution_count": 137,
   "id": "05484938-4a62-490f-be07-9e0689674fa4",
   "metadata": {},
   "outputs": [
    {
     "data": {
      "text/html": [
       "<div>\n",
       "<style scoped>\n",
       "    .dataframe tbody tr th:only-of-type {\n",
       "        vertical-align: middle;\n",
       "    }\n",
       "\n",
       "    .dataframe tbody tr th {\n",
       "        vertical-align: top;\n",
       "    }\n",
       "\n",
       "    .dataframe thead th {\n",
       "        text-align: right;\n",
       "    }\n",
       "</style>\n",
       "<table border=\"1\" class=\"dataframe\">\n",
       "  <thead>\n",
       "    <tr style=\"text-align: right;\">\n",
       "      <th></th>\n",
       "      <th>Name</th>\n",
       "      <th>Abilities</th>\n",
       "      <th>Studied_In</th>\n",
       "      <th>Program_Studied</th>\n",
       "      <th>Roles</th>\n",
       "      <th>Companies</th>\n",
       "      <th>Experience_Start_Dates</th>\n",
       "      <th>Experience_End_Dates</th>\n",
       "      <th>Skills</th>\n",
       "    </tr>\n",
       "  </thead>\n",
       "  <tbody>\n",
       "    <tr>\n",
       "      <th>0</th>\n",
       "      <td>Database Administrator</td>\n",
       "      <td>Installation and Building Server, Running Back...</td>\n",
       "      <td>Lead City University,</td>\n",
       "      <td>Bachelor of Science,</td>\n",
       "      <td>Database Administrator, Database Administrator,</td>\n",
       "      <td>Family Private Care LLC, Incomm,</td>\n",
       "      <td>04/2017, 01/2014,</td>\n",
       "      <td>Present, 02/2017,</td>\n",
       "      <td>Database administration, Database, Ms sql serv...</td>\n",
       "    </tr>\n",
       "    <tr>\n",
       "      <th>1</th>\n",
       "      <td>Database Administrator</td>\n",
       "      <td>database management systems administration, de...</td>\n",
       "      <td>lagos state university,</td>\n",
       "      <td>bsc in computer science,</td>\n",
       "      <td>Database Administrator,</td>\n",
       "      <td>Intercontinental Registry,</td>\n",
       "      <td>12/2008,</td>\n",
       "      <td>08/2011,</td>\n",
       "      <td>sql server management studio, visual studio, s...</td>\n",
       "    </tr>\n",
       "    <tr>\n",
       "      <th>2</th>\n",
       "      <td>Oracle Database Administrator</td>\n",
       "      <td>Over 4+ years of Experience as Architecture, E...</td>\n",
       "      <td>JNTU - Kakinada, Andhra Pradesh,</td>\n",
       "      <td>Master of Computer Applications in Science and...</td>\n",
       "      <td>Oracle Database Administrator, Oracle Database...</td>\n",
       "      <td>Cognizant, Convergys,</td>\n",
       "      <td>06/2016, 06/2014,</td>\n",
       "      <td>Present, 06/2016,</td>\n",
       "      <td>DATABASES, ORACLE (4 years), ORACLE 10G, SQL, ...</td>\n",
       "    </tr>\n",
       "  </tbody>\n",
       "</table>\n",
       "</div>"
      ],
      "text/plain": [
       "                            Name  \\\n",
       "0         Database Administrator   \n",
       "1         Database Administrator   \n",
       "2  Oracle Database Administrator   \n",
       "\n",
       "                                           Abilities  \\\n",
       "0  Installation and Building Server, Running Back...   \n",
       "1  database management systems administration, de...   \n",
       "2  Over 4+ years of Experience as Architecture, E...   \n",
       "\n",
       "                          Studied_In  \\\n",
       "0             Lead City University,    \n",
       "1           lagos state university,    \n",
       "2  JNTU - Kakinada, Andhra Pradesh,    \n",
       "\n",
       "                                     Program_Studied  \\\n",
       "0                              Bachelor of Science,    \n",
       "1                          bsc in computer science,    \n",
       "2  Master of Computer Applications in Science and...   \n",
       "\n",
       "                                               Roles  \\\n",
       "0   Database Administrator, Database Administrator,    \n",
       "1                           Database Administrator,    \n",
       "2  Oracle Database Administrator, Oracle Database...   \n",
       "\n",
       "                           Companies Experience_Start_Dates  \\\n",
       "0  Family Private Care LLC, Incomm,      04/2017, 01/2014,    \n",
       "1        Intercontinental Registry,               12/2008,    \n",
       "2             Cognizant, Convergys,      06/2016, 06/2014,    \n",
       "\n",
       "  Experience_End_Dates                                             Skills  \n",
       "0   Present, 02/2017,   Database administration, Database, Ms sql serv...  \n",
       "1            08/2011,   sql server management studio, visual studio, s...  \n",
       "2   Present, 06/2016,   DATABASES, ORACLE (4 years), ORACLE 10G, SQL, ...  "
      ]
     },
     "execution_count": 137,
     "metadata": {},
     "output_type": "execute_result"
    }
   ],
   "source": [
    "resume_df.head(3)"
   ]
  },
  {
   "cell_type": "markdown",
   "id": "e84b4e50-ebcb-44f0-9cb5-fbc90bc3273e",
   "metadata": {},
   "source": [
    "#### Dataframe Information"
   ]
  },
  {
   "cell_type": "code",
   "execution_count": 138,
   "id": "5f841508-5674-486d-b639-ad40950cfe47",
   "metadata": {},
   "outputs": [
    {
     "name": "stdout",
     "output_type": "stream",
     "text": [
      "<class 'pandas.core.frame.DataFrame'>\n",
      "RangeIndex: 47898 entries, 0 to 47897\n",
      "Data columns (total 9 columns):\n",
      " #   Column                  Non-Null Count  Dtype \n",
      "---  ------                  --------------  ----- \n",
      " 0   Name                    47898 non-null  object\n",
      " 1   Abilities               47898 non-null  object\n",
      " 2   Studied_In              47898 non-null  object\n",
      " 3   Program_Studied         47898 non-null  object\n",
      " 4   Roles                   47898 non-null  object\n",
      " 5   Companies               47898 non-null  object\n",
      " 6   Experience_Start_Dates  47898 non-null  object\n",
      " 7   Experience_End_Dates    47898 non-null  object\n",
      " 8   Skills                  47898 non-null  object\n",
      "dtypes: object(9)\n",
      "memory usage: 3.3+ MB\n"
     ]
    }
   ],
   "source": [
    "resume_df.info()"
   ]
  },
  {
   "cell_type": "markdown",
   "id": "36ea1242-a460-49e3-b91f-669fbc5aa11a",
   "metadata": {},
   "source": [
    "#### Feature Extraction"
   ]
  },
  {
   "cell_type": "code",
   "execution_count": 139,
   "id": "1de5ac5c-2c38-4bdc-9b68-5a4d3817ade3",
   "metadata": {},
   "outputs": [
    {
     "data": {
      "text/html": [
       "<div>\n",
       "<style scoped>\n",
       "    .dataframe tbody tr th:only-of-type {\n",
       "        vertical-align: middle;\n",
       "    }\n",
       "\n",
       "    .dataframe tbody tr th {\n",
       "        vertical-align: top;\n",
       "    }\n",
       "\n",
       "    .dataframe thead th {\n",
       "        text-align: right;\n",
       "    }\n",
       "</style>\n",
       "<table border=\"1\" class=\"dataframe\">\n",
       "  <thead>\n",
       "    <tr style=\"text-align: right;\">\n",
       "      <th></th>\n",
       "      <th>Name</th>\n",
       "      <th>Abilities</th>\n",
       "      <th>Studied_In</th>\n",
       "      <th>Program_Studied</th>\n",
       "      <th>Roles</th>\n",
       "      <th>Companies</th>\n",
       "      <th>Experience_Start_Dates</th>\n",
       "      <th>Experience_End_Dates</th>\n",
       "      <th>Skills</th>\n",
       "      <th>Worked_Companies</th>\n",
       "    </tr>\n",
       "  </thead>\n",
       "  <tbody>\n",
       "    <tr>\n",
       "      <th>0</th>\n",
       "      <td>Database Administrator</td>\n",
       "      <td>Installation and Building Server, Running Back...</td>\n",
       "      <td>Lead City University,</td>\n",
       "      <td>Bachelor of Science,</td>\n",
       "      <td>Database Administrator, Database Administrator,</td>\n",
       "      <td>Family Private Care LLC, Incomm,</td>\n",
       "      <td>04/2017, 01/2014,</td>\n",
       "      <td>Present, 02/2017,</td>\n",
       "      <td>Database administration, Database, Ms sql serv...</td>\n",
       "      <td>2</td>\n",
       "    </tr>\n",
       "    <tr>\n",
       "      <th>1</th>\n",
       "      <td>Database Administrator</td>\n",
       "      <td>database management systems administration, de...</td>\n",
       "      <td>lagos state university,</td>\n",
       "      <td>bsc in computer science,</td>\n",
       "      <td>Database Administrator,</td>\n",
       "      <td>Intercontinental Registry,</td>\n",
       "      <td>12/2008,</td>\n",
       "      <td>08/2011,</td>\n",
       "      <td>sql server management studio, visual studio, s...</td>\n",
       "      <td>1</td>\n",
       "    </tr>\n",
       "    <tr>\n",
       "      <th>2</th>\n",
       "      <td>Oracle Database Administrator</td>\n",
       "      <td>Over 4+ years of Experience as Architecture, E...</td>\n",
       "      <td>JNTU - Kakinada, Andhra Pradesh,</td>\n",
       "      <td>Master of Computer Applications in Science and...</td>\n",
       "      <td>Oracle Database Administrator, Oracle Database...</td>\n",
       "      <td>Cognizant, Convergys,</td>\n",
       "      <td>06/2016, 06/2014,</td>\n",
       "      <td>Present, 06/2016,</td>\n",
       "      <td>DATABASES, ORACLE (4 years), ORACLE 10G, SQL, ...</td>\n",
       "      <td>2</td>\n",
       "    </tr>\n",
       "  </tbody>\n",
       "</table>\n",
       "</div>"
      ],
      "text/plain": [
       "                            Name  \\\n",
       "0         Database Administrator   \n",
       "1         Database Administrator   \n",
       "2  Oracle Database Administrator   \n",
       "\n",
       "                                           Abilities  \\\n",
       "0  Installation and Building Server, Running Back...   \n",
       "1  database management systems administration, de...   \n",
       "2  Over 4+ years of Experience as Architecture, E...   \n",
       "\n",
       "                          Studied_In  \\\n",
       "0             Lead City University,    \n",
       "1           lagos state university,    \n",
       "2  JNTU - Kakinada, Andhra Pradesh,    \n",
       "\n",
       "                                     Program_Studied  \\\n",
       "0                              Bachelor of Science,    \n",
       "1                          bsc in computer science,    \n",
       "2  Master of Computer Applications in Science and...   \n",
       "\n",
       "                                               Roles  \\\n",
       "0   Database Administrator, Database Administrator,    \n",
       "1                           Database Administrator,    \n",
       "2  Oracle Database Administrator, Oracle Database...   \n",
       "\n",
       "                           Companies Experience_Start_Dates  \\\n",
       "0  Family Private Care LLC, Incomm,      04/2017, 01/2014,    \n",
       "1        Intercontinental Registry,               12/2008,    \n",
       "2             Cognizant, Convergys,      06/2016, 06/2014,    \n",
       "\n",
       "  Experience_End_Dates                                             Skills  \\\n",
       "0   Present, 02/2017,   Database administration, Database, Ms sql serv...   \n",
       "1            08/2011,   sql server management studio, visual studio, s...   \n",
       "2   Present, 06/2016,   DATABASES, ORACLE (4 years), ORACLE 10G, SQL, ...   \n",
       "\n",
       "   Worked_Companies  \n",
       "0                 2  \n",
       "1                 1  \n",
       "2                 2  "
      ]
     },
     "execution_count": 139,
     "metadata": {},
     "output_type": "execute_result"
    }
   ],
   "source": [
    "resume_df['Worked_Companies'] = resume_df['Companies'].apply(lambda x: len(str(x).rstrip(', ').split(',')))\n",
    "\n",
    "resume_df.head(3)"
   ]
  },
  {
   "cell_type": "code",
   "execution_count": 140,
   "id": "4407ba86-8b56-467a-b262-b8e2c10894e3",
   "metadata": {},
   "outputs": [],
   "source": [
    "resume_df['Experience_End_Dates'] = resume_df['Experience_End_Dates'].str.lower()"
   ]
  },
  {
   "cell_type": "code",
   "execution_count": 141,
   "id": "f5734185-2c8e-4d5d-a2e3-acb577493dd7",
   "metadata": {},
   "outputs": [
    {
     "data": {
      "text/html": [
       "<div>\n",
       "<style scoped>\n",
       "    .dataframe tbody tr th:only-of-type {\n",
       "        vertical-align: middle;\n",
       "    }\n",
       "\n",
       "    .dataframe tbody tr th {\n",
       "        vertical-align: top;\n",
       "    }\n",
       "\n",
       "    .dataframe thead th {\n",
       "        text-align: right;\n",
       "    }\n",
       "</style>\n",
       "<table border=\"1\" class=\"dataframe\">\n",
       "  <thead>\n",
       "    <tr style=\"text-align: right;\">\n",
       "      <th></th>\n",
       "      <th>Name</th>\n",
       "      <th>Abilities</th>\n",
       "      <th>Studied_In</th>\n",
       "      <th>Program_Studied</th>\n",
       "      <th>Roles</th>\n",
       "      <th>Companies</th>\n",
       "      <th>Experience_Start_Dates</th>\n",
       "      <th>Experience_End_Dates</th>\n",
       "      <th>Skills</th>\n",
       "      <th>Worked_Companies</th>\n",
       "      <th>Is_Working_Now</th>\n",
       "    </tr>\n",
       "  </thead>\n",
       "  <tbody>\n",
       "    <tr>\n",
       "      <th>0</th>\n",
       "      <td>Database Administrator</td>\n",
       "      <td>Installation and Building Server, Running Back...</td>\n",
       "      <td>Lead City University,</td>\n",
       "      <td>Bachelor of Science,</td>\n",
       "      <td>Database Administrator, Database Administrator,</td>\n",
       "      <td>Family Private Care LLC, Incomm,</td>\n",
       "      <td>04/2017, 01/2014,</td>\n",
       "      <td>present, 02/2017,</td>\n",
       "      <td>Database administration, Database, Ms sql serv...</td>\n",
       "      <td>2</td>\n",
       "      <td>Yes</td>\n",
       "    </tr>\n",
       "    <tr>\n",
       "      <th>1</th>\n",
       "      <td>Database Administrator</td>\n",
       "      <td>database management systems administration, de...</td>\n",
       "      <td>lagos state university,</td>\n",
       "      <td>bsc in computer science,</td>\n",
       "      <td>Database Administrator,</td>\n",
       "      <td>Intercontinental Registry,</td>\n",
       "      <td>12/2008,</td>\n",
       "      <td>08/2011,</td>\n",
       "      <td>sql server management studio, visual studio, s...</td>\n",
       "      <td>1</td>\n",
       "      <td>No</td>\n",
       "    </tr>\n",
       "    <tr>\n",
       "      <th>2</th>\n",
       "      <td>Oracle Database Administrator</td>\n",
       "      <td>Over 4+ years of Experience as Architecture, E...</td>\n",
       "      <td>JNTU - Kakinada, Andhra Pradesh,</td>\n",
       "      <td>Master of Computer Applications in Science and...</td>\n",
       "      <td>Oracle Database Administrator, Oracle Database...</td>\n",
       "      <td>Cognizant, Convergys,</td>\n",
       "      <td>06/2016, 06/2014,</td>\n",
       "      <td>present, 06/2016,</td>\n",
       "      <td>DATABASES, ORACLE (4 years), ORACLE 10G, SQL, ...</td>\n",
       "      <td>2</td>\n",
       "      <td>Yes</td>\n",
       "    </tr>\n",
       "  </tbody>\n",
       "</table>\n",
       "</div>"
      ],
      "text/plain": [
       "                            Name  \\\n",
       "0         Database Administrator   \n",
       "1         Database Administrator   \n",
       "2  Oracle Database Administrator   \n",
       "\n",
       "                                           Abilities  \\\n",
       "0  Installation and Building Server, Running Back...   \n",
       "1  database management systems administration, de...   \n",
       "2  Over 4+ years of Experience as Architecture, E...   \n",
       "\n",
       "                          Studied_In  \\\n",
       "0             Lead City University,    \n",
       "1           lagos state university,    \n",
       "2  JNTU - Kakinada, Andhra Pradesh,    \n",
       "\n",
       "                                     Program_Studied  \\\n",
       "0                              Bachelor of Science,    \n",
       "1                          bsc in computer science,    \n",
       "2  Master of Computer Applications in Science and...   \n",
       "\n",
       "                                               Roles  \\\n",
       "0   Database Administrator, Database Administrator,    \n",
       "1                           Database Administrator,    \n",
       "2  Oracle Database Administrator, Oracle Database...   \n",
       "\n",
       "                           Companies Experience_Start_Dates  \\\n",
       "0  Family Private Care LLC, Incomm,      04/2017, 01/2014,    \n",
       "1        Intercontinental Registry,               12/2008,    \n",
       "2             Cognizant, Convergys,      06/2016, 06/2014,    \n",
       "\n",
       "  Experience_End_Dates                                             Skills  \\\n",
       "0   present, 02/2017,   Database administration, Database, Ms sql serv...   \n",
       "1            08/2011,   sql server management studio, visual studio, s...   \n",
       "2   present, 06/2016,   DATABASES, ORACLE (4 years), ORACLE 10G, SQL, ...   \n",
       "\n",
       "   Worked_Companies Is_Working_Now  \n",
       "0                 2            Yes  \n",
       "1                 1             No  \n",
       "2                 2            Yes  "
      ]
     },
     "execution_count": 141,
     "metadata": {},
     "output_type": "execute_result"
    }
   ],
   "source": [
    "resume_df['Is_Working_Now'] = resume_df['Experience_End_Dates'].apply(lambda x: 'Yes' if ('present' in x or 'current' in x) else 'No')\n",
    "resume_df.head(3)"
   ]
  },
  {
   "cell_type": "code",
   "execution_count": 142,
   "id": "f1a7a593-478e-4116-9eb8-dee5714cc984",
   "metadata": {},
   "outputs": [],
   "source": [
    "resume_df['Experience_Start_Dates'] = resume_df['Experience_Start_Dates'].str.strip(', ')"
   ]
  },
  {
   "cell_type": "code",
   "execution_count": 143,
   "id": "79609b5c-8c44-46f8-b485-07ecbfce1196",
   "metadata": {},
   "outputs": [],
   "source": [
    "resume_df['Experience_End_Dates'] = resume_df['Experience_End_Dates'].str.strip(', ')"
   ]
  },
  {
   "cell_type": "code",
   "execution_count": 144,
   "id": "7f1e9a6b-09a4-4ceb-8fbe-8a9514b6ac41",
   "metadata": {},
   "outputs": [
    {
     "data": {
      "text/html": [
       "<div>\n",
       "<style scoped>\n",
       "    .dataframe tbody tr th:only-of-type {\n",
       "        vertical-align: middle;\n",
       "    }\n",
       "\n",
       "    .dataframe tbody tr th {\n",
       "        vertical-align: top;\n",
       "    }\n",
       "\n",
       "    .dataframe thead th {\n",
       "        text-align: right;\n",
       "    }\n",
       "</style>\n",
       "<table border=\"1\" class=\"dataframe\">\n",
       "  <thead>\n",
       "    <tr style=\"text-align: right;\">\n",
       "      <th></th>\n",
       "      <th>Name</th>\n",
       "      <th>Abilities</th>\n",
       "      <th>Studied_In</th>\n",
       "      <th>Program_Studied</th>\n",
       "      <th>Roles</th>\n",
       "      <th>Companies</th>\n",
       "      <th>Experience_Start_Dates</th>\n",
       "      <th>Experience_End_Dates</th>\n",
       "      <th>Skills</th>\n",
       "      <th>Worked_Companies</th>\n",
       "      <th>Is_Working_Now</th>\n",
       "    </tr>\n",
       "  </thead>\n",
       "  <tbody>\n",
       "    <tr>\n",
       "      <th>0</th>\n",
       "      <td>Database Administrator</td>\n",
       "      <td>Installation and Building Server, Running Back...</td>\n",
       "      <td>Lead City University,</td>\n",
       "      <td>Bachelor of Science,</td>\n",
       "      <td>Database Administrator, Database Administrator,</td>\n",
       "      <td>Family Private Care LLC, Incomm,</td>\n",
       "      <td>04/2017, 01/2014</td>\n",
       "      <td>2024</td>\n",
       "      <td>Database administration, Database, Ms sql serv...</td>\n",
       "      <td>2</td>\n",
       "      <td>Yes</td>\n",
       "    </tr>\n",
       "    <tr>\n",
       "      <th>1</th>\n",
       "      <td>Database Administrator</td>\n",
       "      <td>database management systems administration, de...</td>\n",
       "      <td>lagos state university,</td>\n",
       "      <td>bsc in computer science,</td>\n",
       "      <td>Database Administrator,</td>\n",
       "      <td>Intercontinental Registry,</td>\n",
       "      <td>12/2008</td>\n",
       "      <td>08/2011</td>\n",
       "      <td>sql server management studio, visual studio, s...</td>\n",
       "      <td>1</td>\n",
       "      <td>No</td>\n",
       "    </tr>\n",
       "    <tr>\n",
       "      <th>2</th>\n",
       "      <td>Oracle Database Administrator</td>\n",
       "      <td>Over 4+ years of Experience as Architecture, E...</td>\n",
       "      <td>JNTU - Kakinada, Andhra Pradesh,</td>\n",
       "      <td>Master of Computer Applications in Science and...</td>\n",
       "      <td>Oracle Database Administrator, Oracle Database...</td>\n",
       "      <td>Cognizant, Convergys,</td>\n",
       "      <td>06/2016, 06/2014</td>\n",
       "      <td>2024</td>\n",
       "      <td>DATABASES, ORACLE (4 years), ORACLE 10G, SQL, ...</td>\n",
       "      <td>2</td>\n",
       "      <td>Yes</td>\n",
       "    </tr>\n",
       "  </tbody>\n",
       "</table>\n",
       "</div>"
      ],
      "text/plain": [
       "                            Name  \\\n",
       "0         Database Administrator   \n",
       "1         Database Administrator   \n",
       "2  Oracle Database Administrator   \n",
       "\n",
       "                                           Abilities  \\\n",
       "0  Installation and Building Server, Running Back...   \n",
       "1  database management systems administration, de...   \n",
       "2  Over 4+ years of Experience as Architecture, E...   \n",
       "\n",
       "                          Studied_In  \\\n",
       "0             Lead City University,    \n",
       "1           lagos state university,    \n",
       "2  JNTU - Kakinada, Andhra Pradesh,    \n",
       "\n",
       "                                     Program_Studied  \\\n",
       "0                              Bachelor of Science,    \n",
       "1                          bsc in computer science,    \n",
       "2  Master of Computer Applications in Science and...   \n",
       "\n",
       "                                               Roles  \\\n",
       "0   Database Administrator, Database Administrator,    \n",
       "1                           Database Administrator,    \n",
       "2  Oracle Database Administrator, Oracle Database...   \n",
       "\n",
       "                           Companies Experience_Start_Dates  \\\n",
       "0  Family Private Care LLC, Incomm,        04/2017, 01/2014   \n",
       "1        Intercontinental Registry,                 12/2008   \n",
       "2             Cognizant, Convergys,        06/2016, 06/2014   \n",
       "\n",
       "  Experience_End_Dates                                             Skills  \\\n",
       "0                 2024  Database administration, Database, Ms sql serv...   \n",
       "1              08/2011  sql server management studio, visual studio, s...   \n",
       "2                 2024  DATABASES, ORACLE (4 years), ORACLE 10G, SQL, ...   \n",
       "\n",
       "   Worked_Companies Is_Working_Now  \n",
       "0                 2            Yes  \n",
       "1                 1             No  \n",
       "2                 2            Yes  "
      ]
     },
     "execution_count": 144,
     "metadata": {},
     "output_type": "execute_result"
    }
   ],
   "source": [
    "resume_df['Experience_End_Dates'] = resume_df['Experience_End_Dates'].apply(lambda x: '2024' if ('present' in x or 'current' in x) else x)\n",
    "\n",
    "resume_df.head(3)"
   ]
  },
  {
   "cell_type": "markdown",
   "id": "d10bfff5-016d-4e06-986a-7999d8ab4c19",
   "metadata": {},
   "source": [
    "#### Year Extractor Function"
   ]
  },
  {
   "cell_type": "code",
   "execution_count": 145,
   "id": "1d52cbb0-9de1-4cc5-84d6-8c8b6fffa04f",
   "metadata": {},
   "outputs": [],
   "source": [
    "import re\n",
    "separators = [' ', '/']\n",
    "sep = '|'.join(map(re.escape, separators))\n",
    "pat_19 = r'^9\\d'\n",
    "pat_year = r'^20\\d{2}|19\\d{2}'\n",
    "pat_20 = r'^[0-2]\\d'\n",
    "\n",
    "def YearExtractor(x):\n",
    "    dates = x.split(', ')\n",
    "    years = []\n",
    "    for i in dates:\n",
    "        d = re.split(sep, i)\n",
    "        if len(d) == 2:\n",
    "            a, b = d\n",
    "            if re.match(pat_year, a):\n",
    "                years.append(int(a))\n",
    "            elif re.match(pat_year, b):\n",
    "                years.append(int(b))\n",
    "            elif re.match(pat_19, b) and int(a) <= 12:\n",
    "                year = '19'+b\n",
    "                years.append(int(year))\n",
    "            elif re.match(pat_19, a):\n",
    "                year = '19'+a\n",
    "                years.append(int(year))\n",
    "            elif re.match(pat_20, b) and int(a) <= 12:\n",
    "                year = '20'+b\n",
    "                years.append(int(year))\n",
    "            elif re.match(pat_20, a):\n",
    "                year = '20'+a\n",
    "                years.append(int(year))\n",
    "        elif len(d) == 3:\n",
    "            a, c, b = d\n",
    "            if re.match(pat_year, a):\n",
    "                years.append(int(a))\n",
    "            elif re.match(pat_year, b):\n",
    "                years.append(int(b))\n",
    "            elif re.match(pat_19, b) and int(a) <= 12:\n",
    "                year = '19'+b\n",
    "                years.append(int(year))\n",
    "            elif re.match(pat_19, a):\n",
    "                year = '19'+a\n",
    "                years.append(int(year))\n",
    "            elif re.match(pat_20, b) and int(a) <= 12:\n",
    "                year = '20'+b\n",
    "                years.append(int(year))\n",
    "            elif re.match(pat_20, a):\n",
    "                year = '20'+a\n",
    "                years.append(int(year))\n",
    "        else:\n",
    "            if re.match(pat_year, d[0]):\n",
    "                years.append(int(d[0]))\n",
    "            elif re.match(pat_19, d[0]):\n",
    "                year = '19'+d[0]\n",
    "                years.append(int(year))\n",
    "            elif re.match(pat_20, d[0]):\n",
    "                year = '20'+d[0]\n",
    "                years.append(int(year))\n",
    "    return years"
   ]
  },
  {
   "cell_type": "code",
   "execution_count": 146,
   "id": "d65ec8ab-0ee3-48d8-a142-2709e4673416",
   "metadata": {},
   "outputs": [],
   "source": [
    "resume_df['Experience_Start_Dates'] = resume_df['Experience_Start_Dates'].apply(YearExtractor)"
   ]
  },
  {
   "cell_type": "code",
   "execution_count": 147,
   "id": "c4d9a6aa-a456-41c5-a84e-2fb4b2fb8e5c",
   "metadata": {},
   "outputs": [],
   "source": [
    "resume_df['Experience_End_Dates'] = resume_df['Experience_End_Dates'].apply(YearExtractor)"
   ]
  },
  {
   "cell_type": "code",
   "execution_count": 148,
   "id": "3a089ac0-140d-49b2-b032-060b7c4b085d",
   "metadata": {},
   "outputs": [
    {
     "data": {
      "text/html": [
       "<div>\n",
       "<style scoped>\n",
       "    .dataframe tbody tr th:only-of-type {\n",
       "        vertical-align: middle;\n",
       "    }\n",
       "\n",
       "    .dataframe tbody tr th {\n",
       "        vertical-align: top;\n",
       "    }\n",
       "\n",
       "    .dataframe thead th {\n",
       "        text-align: right;\n",
       "    }\n",
       "</style>\n",
       "<table border=\"1\" class=\"dataframe\">\n",
       "  <thead>\n",
       "    <tr style=\"text-align: right;\">\n",
       "      <th></th>\n",
       "      <th>Name</th>\n",
       "      <th>Abilities</th>\n",
       "      <th>Studied_In</th>\n",
       "      <th>Program_Studied</th>\n",
       "      <th>Roles</th>\n",
       "      <th>Companies</th>\n",
       "      <th>Experience_Start_Dates</th>\n",
       "      <th>Experience_End_Dates</th>\n",
       "      <th>Skills</th>\n",
       "      <th>Worked_Companies</th>\n",
       "      <th>Is_Working_Now</th>\n",
       "    </tr>\n",
       "  </thead>\n",
       "  <tbody>\n",
       "    <tr>\n",
       "      <th>0</th>\n",
       "      <td>Database Administrator</td>\n",
       "      <td>Installation and Building Server, Running Back...</td>\n",
       "      <td>Lead City University,</td>\n",
       "      <td>Bachelor of Science,</td>\n",
       "      <td>Database Administrator, Database Administrator,</td>\n",
       "      <td>Family Private Care LLC, Incomm,</td>\n",
       "      <td>[2017, 2014]</td>\n",
       "      <td>[2024]</td>\n",
       "      <td>Database administration, Database, Ms sql serv...</td>\n",
       "      <td>2</td>\n",
       "      <td>Yes</td>\n",
       "    </tr>\n",
       "    <tr>\n",
       "      <th>1</th>\n",
       "      <td>Database Administrator</td>\n",
       "      <td>database management systems administration, de...</td>\n",
       "      <td>lagos state university,</td>\n",
       "      <td>bsc in computer science,</td>\n",
       "      <td>Database Administrator,</td>\n",
       "      <td>Intercontinental Registry,</td>\n",
       "      <td>[2008]</td>\n",
       "      <td>[2011]</td>\n",
       "      <td>sql server management studio, visual studio, s...</td>\n",
       "      <td>1</td>\n",
       "      <td>No</td>\n",
       "    </tr>\n",
       "    <tr>\n",
       "      <th>2</th>\n",
       "      <td>Oracle Database Administrator</td>\n",
       "      <td>Over 4+ years of Experience as Architecture, E...</td>\n",
       "      <td>JNTU - Kakinada, Andhra Pradesh,</td>\n",
       "      <td>Master of Computer Applications in Science and...</td>\n",
       "      <td>Oracle Database Administrator, Oracle Database...</td>\n",
       "      <td>Cognizant, Convergys,</td>\n",
       "      <td>[2016, 2014]</td>\n",
       "      <td>[2024]</td>\n",
       "      <td>DATABASES, ORACLE (4 years), ORACLE 10G, SQL, ...</td>\n",
       "      <td>2</td>\n",
       "      <td>Yes</td>\n",
       "    </tr>\n",
       "  </tbody>\n",
       "</table>\n",
       "</div>"
      ],
      "text/plain": [
       "                            Name  \\\n",
       "0         Database Administrator   \n",
       "1         Database Administrator   \n",
       "2  Oracle Database Administrator   \n",
       "\n",
       "                                           Abilities  \\\n",
       "0  Installation and Building Server, Running Back...   \n",
       "1  database management systems administration, de...   \n",
       "2  Over 4+ years of Experience as Architecture, E...   \n",
       "\n",
       "                          Studied_In  \\\n",
       "0             Lead City University,    \n",
       "1           lagos state university,    \n",
       "2  JNTU - Kakinada, Andhra Pradesh,    \n",
       "\n",
       "                                     Program_Studied  \\\n",
       "0                              Bachelor of Science,    \n",
       "1                          bsc in computer science,    \n",
       "2  Master of Computer Applications in Science and...   \n",
       "\n",
       "                                               Roles  \\\n",
       "0   Database Administrator, Database Administrator,    \n",
       "1                           Database Administrator,    \n",
       "2  Oracle Database Administrator, Oracle Database...   \n",
       "\n",
       "                           Companies Experience_Start_Dates  \\\n",
       "0  Family Private Care LLC, Incomm,            [2017, 2014]   \n",
       "1        Intercontinental Registry,                  [2008]   \n",
       "2             Cognizant, Convergys,            [2016, 2014]   \n",
       "\n",
       "  Experience_End_Dates                                             Skills  \\\n",
       "0               [2024]  Database administration, Database, Ms sql serv...   \n",
       "1               [2011]  sql server management studio, visual studio, s...   \n",
       "2               [2024]  DATABASES, ORACLE (4 years), ORACLE 10G, SQL, ...   \n",
       "\n",
       "   Worked_Companies Is_Working_Now  \n",
       "0                 2            Yes  \n",
       "1                 1             No  \n",
       "2                 2            Yes  "
      ]
     },
     "execution_count": 148,
     "metadata": {},
     "output_type": "execute_result"
    }
   ],
   "source": [
    "resume_df.head(3)"
   ]
  },
  {
   "cell_type": "code",
   "execution_count": 149,
   "id": "7f8e41cd-b0ed-4687-8708-dd2d607117e7",
   "metadata": {},
   "outputs": [],
   "source": [
    "resume_df['Experience_End_Year'] = resume_df['Experience_End_Dates'].apply(lambda x: np.max(x))"
   ]
  },
  {
   "cell_type": "code",
   "execution_count": 150,
   "id": "ef1d4d36-aeb6-4166-a411-863f56d68e4e",
   "metadata": {},
   "outputs": [],
   "source": [
    "resume_df['Experience_Start_Year'] = resume_df['Experience_Start_Dates'].apply(lambda x: np.min(x))"
   ]
  },
  {
   "cell_type": "code",
   "execution_count": 151,
   "id": "022df043-eabd-4494-8184-0c0e9abac3c8",
   "metadata": {},
   "outputs": [
    {
     "data": {
      "text/html": [
       "<div>\n",
       "<style scoped>\n",
       "    .dataframe tbody tr th:only-of-type {\n",
       "        vertical-align: middle;\n",
       "    }\n",
       "\n",
       "    .dataframe tbody tr th {\n",
       "        vertical-align: top;\n",
       "    }\n",
       "\n",
       "    .dataframe thead th {\n",
       "        text-align: right;\n",
       "    }\n",
       "</style>\n",
       "<table border=\"1\" class=\"dataframe\">\n",
       "  <thead>\n",
       "    <tr style=\"text-align: right;\">\n",
       "      <th></th>\n",
       "      <th>Name</th>\n",
       "      <th>Abilities</th>\n",
       "      <th>Studied_In</th>\n",
       "      <th>Program_Studied</th>\n",
       "      <th>Roles</th>\n",
       "      <th>Companies</th>\n",
       "      <th>Experience_Start_Dates</th>\n",
       "      <th>Experience_End_Dates</th>\n",
       "      <th>Skills</th>\n",
       "      <th>Worked_Companies</th>\n",
       "      <th>Is_Working_Now</th>\n",
       "      <th>Experience_End_Year</th>\n",
       "      <th>Experience_Start_Year</th>\n",
       "    </tr>\n",
       "  </thead>\n",
       "  <tbody>\n",
       "    <tr>\n",
       "      <th>0</th>\n",
       "      <td>Database Administrator</td>\n",
       "      <td>Installation and Building Server, Running Back...</td>\n",
       "      <td>Lead City University,</td>\n",
       "      <td>Bachelor of Science,</td>\n",
       "      <td>Database Administrator, Database Administrator,</td>\n",
       "      <td>Family Private Care LLC, Incomm,</td>\n",
       "      <td>[2017, 2014]</td>\n",
       "      <td>[2024]</td>\n",
       "      <td>Database administration, Database, Ms sql serv...</td>\n",
       "      <td>2</td>\n",
       "      <td>Yes</td>\n",
       "      <td>2024</td>\n",
       "      <td>2014</td>\n",
       "    </tr>\n",
       "    <tr>\n",
       "      <th>1</th>\n",
       "      <td>Database Administrator</td>\n",
       "      <td>database management systems administration, de...</td>\n",
       "      <td>lagos state university,</td>\n",
       "      <td>bsc in computer science,</td>\n",
       "      <td>Database Administrator,</td>\n",
       "      <td>Intercontinental Registry,</td>\n",
       "      <td>[2008]</td>\n",
       "      <td>[2011]</td>\n",
       "      <td>sql server management studio, visual studio, s...</td>\n",
       "      <td>1</td>\n",
       "      <td>No</td>\n",
       "      <td>2011</td>\n",
       "      <td>2008</td>\n",
       "    </tr>\n",
       "    <tr>\n",
       "      <th>2</th>\n",
       "      <td>Oracle Database Administrator</td>\n",
       "      <td>Over 4+ years of Experience as Architecture, E...</td>\n",
       "      <td>JNTU - Kakinada, Andhra Pradesh,</td>\n",
       "      <td>Master of Computer Applications in Science and...</td>\n",
       "      <td>Oracle Database Administrator, Oracle Database...</td>\n",
       "      <td>Cognizant, Convergys,</td>\n",
       "      <td>[2016, 2014]</td>\n",
       "      <td>[2024]</td>\n",
       "      <td>DATABASES, ORACLE (4 years), ORACLE 10G, SQL, ...</td>\n",
       "      <td>2</td>\n",
       "      <td>Yes</td>\n",
       "      <td>2024</td>\n",
       "      <td>2014</td>\n",
       "    </tr>\n",
       "  </tbody>\n",
       "</table>\n",
       "</div>"
      ],
      "text/plain": [
       "                            Name  \\\n",
       "0         Database Administrator   \n",
       "1         Database Administrator   \n",
       "2  Oracle Database Administrator   \n",
       "\n",
       "                                           Abilities  \\\n",
       "0  Installation and Building Server, Running Back...   \n",
       "1  database management systems administration, de...   \n",
       "2  Over 4+ years of Experience as Architecture, E...   \n",
       "\n",
       "                          Studied_In  \\\n",
       "0             Lead City University,    \n",
       "1           lagos state university,    \n",
       "2  JNTU - Kakinada, Andhra Pradesh,    \n",
       "\n",
       "                                     Program_Studied  \\\n",
       "0                              Bachelor of Science,    \n",
       "1                          bsc in computer science,    \n",
       "2  Master of Computer Applications in Science and...   \n",
       "\n",
       "                                               Roles  \\\n",
       "0   Database Administrator, Database Administrator,    \n",
       "1                           Database Administrator,    \n",
       "2  Oracle Database Administrator, Oracle Database...   \n",
       "\n",
       "                           Companies Experience_Start_Dates  \\\n",
       "0  Family Private Care LLC, Incomm,            [2017, 2014]   \n",
       "1        Intercontinental Registry,                  [2008]   \n",
       "2             Cognizant, Convergys,            [2016, 2014]   \n",
       "\n",
       "  Experience_End_Dates                                             Skills  \\\n",
       "0               [2024]  Database administration, Database, Ms sql serv...   \n",
       "1               [2011]  sql server management studio, visual studio, s...   \n",
       "2               [2024]  DATABASES, ORACLE (4 years), ORACLE 10G, SQL, ...   \n",
       "\n",
       "   Worked_Companies Is_Working_Now  Experience_End_Year  Experience_Start_Year  \n",
       "0                 2            Yes                 2024                   2014  \n",
       "1                 1             No                 2011                   2008  \n",
       "2                 2            Yes                 2024                   2014  "
      ]
     },
     "execution_count": 151,
     "metadata": {},
     "output_type": "execute_result"
    }
   ],
   "source": [
    "resume_df.head(3)"
   ]
  },
  {
   "cell_type": "code",
   "execution_count": 152,
   "id": "ff374f07-a23e-4816-94bf-c3914167c843",
   "metadata": {},
   "outputs": [],
   "source": [
    "resume_df['Total_Experience'] = resume_df['Experience_End_Year'] - resume_df['Experience_Start_Year']"
   ]
  },
  {
   "cell_type": "code",
   "execution_count": 153,
   "id": "cffc9c06-a743-4402-a6dd-e10a5299d876",
   "metadata": {},
   "outputs": [
    {
     "data": {
      "text/html": [
       "<div>\n",
       "<style scoped>\n",
       "    .dataframe tbody tr th:only-of-type {\n",
       "        vertical-align: middle;\n",
       "    }\n",
       "\n",
       "    .dataframe tbody tr th {\n",
       "        vertical-align: top;\n",
       "    }\n",
       "\n",
       "    .dataframe thead th {\n",
       "        text-align: right;\n",
       "    }\n",
       "</style>\n",
       "<table border=\"1\" class=\"dataframe\">\n",
       "  <thead>\n",
       "    <tr style=\"text-align: right;\">\n",
       "      <th></th>\n",
       "      <th>Name</th>\n",
       "      <th>Abilities</th>\n",
       "      <th>Studied_In</th>\n",
       "      <th>Program_Studied</th>\n",
       "      <th>Roles</th>\n",
       "      <th>Companies</th>\n",
       "      <th>Experience_Start_Dates</th>\n",
       "      <th>Experience_End_Dates</th>\n",
       "      <th>Skills</th>\n",
       "      <th>Worked_Companies</th>\n",
       "      <th>Is_Working_Now</th>\n",
       "      <th>Experience_End_Year</th>\n",
       "      <th>Experience_Start_Year</th>\n",
       "      <th>Total_Experience</th>\n",
       "    </tr>\n",
       "  </thead>\n",
       "  <tbody>\n",
       "    <tr>\n",
       "      <th>0</th>\n",
       "      <td>Database Administrator</td>\n",
       "      <td>Installation and Building Server, Running Back...</td>\n",
       "      <td>Lead City University,</td>\n",
       "      <td>Bachelor of Science,</td>\n",
       "      <td>Database Administrator, Database Administrator,</td>\n",
       "      <td>Family Private Care LLC, Incomm,</td>\n",
       "      <td>[2017, 2014]</td>\n",
       "      <td>[2024]</td>\n",
       "      <td>Database administration, Database, Ms sql serv...</td>\n",
       "      <td>2</td>\n",
       "      <td>Yes</td>\n",
       "      <td>2024</td>\n",
       "      <td>2014</td>\n",
       "      <td>10</td>\n",
       "    </tr>\n",
       "    <tr>\n",
       "      <th>1</th>\n",
       "      <td>Database Administrator</td>\n",
       "      <td>database management systems administration, de...</td>\n",
       "      <td>lagos state university,</td>\n",
       "      <td>bsc in computer science,</td>\n",
       "      <td>Database Administrator,</td>\n",
       "      <td>Intercontinental Registry,</td>\n",
       "      <td>[2008]</td>\n",
       "      <td>[2011]</td>\n",
       "      <td>sql server management studio, visual studio, s...</td>\n",
       "      <td>1</td>\n",
       "      <td>No</td>\n",
       "      <td>2011</td>\n",
       "      <td>2008</td>\n",
       "      <td>3</td>\n",
       "    </tr>\n",
       "    <tr>\n",
       "      <th>2</th>\n",
       "      <td>Oracle Database Administrator</td>\n",
       "      <td>Over 4+ years of Experience as Architecture, E...</td>\n",
       "      <td>JNTU - Kakinada, Andhra Pradesh,</td>\n",
       "      <td>Master of Computer Applications in Science and...</td>\n",
       "      <td>Oracle Database Administrator, Oracle Database...</td>\n",
       "      <td>Cognizant, Convergys,</td>\n",
       "      <td>[2016, 2014]</td>\n",
       "      <td>[2024]</td>\n",
       "      <td>DATABASES, ORACLE (4 years), ORACLE 10G, SQL, ...</td>\n",
       "      <td>2</td>\n",
       "      <td>Yes</td>\n",
       "      <td>2024</td>\n",
       "      <td>2014</td>\n",
       "      <td>10</td>\n",
       "    </tr>\n",
       "  </tbody>\n",
       "</table>\n",
       "</div>"
      ],
      "text/plain": [
       "                            Name  \\\n",
       "0         Database Administrator   \n",
       "1         Database Administrator   \n",
       "2  Oracle Database Administrator   \n",
       "\n",
       "                                           Abilities  \\\n",
       "0  Installation and Building Server, Running Back...   \n",
       "1  database management systems administration, de...   \n",
       "2  Over 4+ years of Experience as Architecture, E...   \n",
       "\n",
       "                          Studied_In  \\\n",
       "0             Lead City University,    \n",
       "1           lagos state university,    \n",
       "2  JNTU - Kakinada, Andhra Pradesh,    \n",
       "\n",
       "                                     Program_Studied  \\\n",
       "0                              Bachelor of Science,    \n",
       "1                          bsc in computer science,    \n",
       "2  Master of Computer Applications in Science and...   \n",
       "\n",
       "                                               Roles  \\\n",
       "0   Database Administrator, Database Administrator,    \n",
       "1                           Database Administrator,    \n",
       "2  Oracle Database Administrator, Oracle Database...   \n",
       "\n",
       "                           Companies Experience_Start_Dates  \\\n",
       "0  Family Private Care LLC, Incomm,            [2017, 2014]   \n",
       "1        Intercontinental Registry,                  [2008]   \n",
       "2             Cognizant, Convergys,            [2016, 2014]   \n",
       "\n",
       "  Experience_End_Dates                                             Skills  \\\n",
       "0               [2024]  Database administration, Database, Ms sql serv...   \n",
       "1               [2011]  sql server management studio, visual studio, s...   \n",
       "2               [2024]  DATABASES, ORACLE (4 years), ORACLE 10G, SQL, ...   \n",
       "\n",
       "   Worked_Companies Is_Working_Now  Experience_End_Year  \\\n",
       "0                 2            Yes                 2024   \n",
       "1                 1             No                 2011   \n",
       "2                 2            Yes                 2024   \n",
       "\n",
       "   Experience_Start_Year  Total_Experience  \n",
       "0                   2014                10  \n",
       "1                   2008                 3  \n",
       "2                   2014                10  "
      ]
     },
     "execution_count": 153,
     "metadata": {},
     "output_type": "execute_result"
    }
   ],
   "source": [
    "resume_df.head(3)"
   ]
  },
  {
   "cell_type": "markdown",
   "id": "0011d238-1266-461f-b9b8-5546e505d4f1",
   "metadata": {},
   "source": [
    "#### Drop Unwanted Columns:"
   ]
  },
  {
   "cell_type": "code",
   "execution_count": 154,
   "id": "fbce1eb2-f3f2-4fc0-8ea8-f31f8c99ee9c",
   "metadata": {},
   "outputs": [
    {
     "data": {
      "text/html": [
       "<div>\n",
       "<style scoped>\n",
       "    .dataframe tbody tr th:only-of-type {\n",
       "        vertical-align: middle;\n",
       "    }\n",
       "\n",
       "    .dataframe tbody tr th {\n",
       "        vertical-align: top;\n",
       "    }\n",
       "\n",
       "    .dataframe thead th {\n",
       "        text-align: right;\n",
       "    }\n",
       "</style>\n",
       "<table border=\"1\" class=\"dataframe\">\n",
       "  <thead>\n",
       "    <tr style=\"text-align: right;\">\n",
       "      <th></th>\n",
       "      <th>Name</th>\n",
       "      <th>Abilities</th>\n",
       "      <th>Studied_In</th>\n",
       "      <th>Program_Studied</th>\n",
       "      <th>Roles</th>\n",
       "      <th>Companies</th>\n",
       "      <th>Skills</th>\n",
       "      <th>Worked_Companies</th>\n",
       "      <th>Is_Working_Now</th>\n",
       "      <th>Total_Experience</th>\n",
       "    </tr>\n",
       "  </thead>\n",
       "  <tbody>\n",
       "    <tr>\n",
       "      <th>0</th>\n",
       "      <td>Database Administrator</td>\n",
       "      <td>Installation and Building Server, Running Back...</td>\n",
       "      <td>Lead City University,</td>\n",
       "      <td>Bachelor of Science,</td>\n",
       "      <td>Database Administrator, Database Administrator,</td>\n",
       "      <td>Family Private Care LLC, Incomm,</td>\n",
       "      <td>Database administration, Database, Ms sql serv...</td>\n",
       "      <td>2</td>\n",
       "      <td>Yes</td>\n",
       "      <td>10</td>\n",
       "    </tr>\n",
       "    <tr>\n",
       "      <th>1</th>\n",
       "      <td>Database Administrator</td>\n",
       "      <td>database management systems administration, de...</td>\n",
       "      <td>lagos state university,</td>\n",
       "      <td>bsc in computer science,</td>\n",
       "      <td>Database Administrator,</td>\n",
       "      <td>Intercontinental Registry,</td>\n",
       "      <td>sql server management studio, visual studio, s...</td>\n",
       "      <td>1</td>\n",
       "      <td>No</td>\n",
       "      <td>3</td>\n",
       "    </tr>\n",
       "    <tr>\n",
       "      <th>2</th>\n",
       "      <td>Oracle Database Administrator</td>\n",
       "      <td>Over 4+ years of Experience as Architecture, E...</td>\n",
       "      <td>JNTU - Kakinada, Andhra Pradesh,</td>\n",
       "      <td>Master of Computer Applications in Science and...</td>\n",
       "      <td>Oracle Database Administrator, Oracle Database...</td>\n",
       "      <td>Cognizant, Convergys,</td>\n",
       "      <td>DATABASES, ORACLE (4 years), ORACLE 10G, SQL, ...</td>\n",
       "      <td>2</td>\n",
       "      <td>Yes</td>\n",
       "      <td>10</td>\n",
       "    </tr>\n",
       "  </tbody>\n",
       "</table>\n",
       "</div>"
      ],
      "text/plain": [
       "                            Name  \\\n",
       "0         Database Administrator   \n",
       "1         Database Administrator   \n",
       "2  Oracle Database Administrator   \n",
       "\n",
       "                                           Abilities  \\\n",
       "0  Installation and Building Server, Running Back...   \n",
       "1  database management systems administration, de...   \n",
       "2  Over 4+ years of Experience as Architecture, E...   \n",
       "\n",
       "                          Studied_In  \\\n",
       "0             Lead City University,    \n",
       "1           lagos state university,    \n",
       "2  JNTU - Kakinada, Andhra Pradesh,    \n",
       "\n",
       "                                     Program_Studied  \\\n",
       "0                              Bachelor of Science,    \n",
       "1                          bsc in computer science,    \n",
       "2  Master of Computer Applications in Science and...   \n",
       "\n",
       "                                               Roles  \\\n",
       "0   Database Administrator, Database Administrator,    \n",
       "1                           Database Administrator,    \n",
       "2  Oracle Database Administrator, Oracle Database...   \n",
       "\n",
       "                           Companies  \\\n",
       "0  Family Private Care LLC, Incomm,    \n",
       "1        Intercontinental Registry,    \n",
       "2             Cognizant, Convergys,    \n",
       "\n",
       "                                              Skills  Worked_Companies  \\\n",
       "0  Database administration, Database, Ms sql serv...                 2   \n",
       "1  sql server management studio, visual studio, s...                 1   \n",
       "2  DATABASES, ORACLE (4 years), ORACLE 10G, SQL, ...                 2   \n",
       "\n",
       "  Is_Working_Now  Total_Experience  \n",
       "0            Yes                10  \n",
       "1             No                 3  \n",
       "2            Yes                10  "
      ]
     },
     "execution_count": 154,
     "metadata": {},
     "output_type": "execute_result"
    }
   ],
   "source": [
    "resume_df.drop(columns=['Experience_Start_Dates','Experience_End_Dates','Experience_End_Year','Experience_Start_Year'], inplace=True)\n",
    "resume_df.head(3)"
   ]
  },
  {
   "cell_type": "markdown",
   "id": "4a607425-bf65-4df8-9973-64b5738f87c0",
   "metadata": {},
   "source": [
    "#### Standardization"
   ]
  },
  {
   "cell_type": "code",
   "execution_count": 155,
   "id": "86ecc85e-2cab-4416-929a-e80cd58ac3be",
   "metadata": {},
   "outputs": [],
   "source": [
    "resume_df[['Name','Studied_In','Program_Studied', 'Companies']] = resume_df[['Name','Studied_In','Program_Studied', 'Companies']].apply(lambda x:''.join([i for i in x if not str(i).isnumeric()]))"
   ]
  },
  {
   "cell_type": "code",
   "execution_count": 156,
   "id": "42197878-3052-476c-a11f-f9e5b64969b7",
   "metadata": {},
   "outputs": [
    {
     "data": {
      "text/html": [
       "<div>\n",
       "<style scoped>\n",
       "    .dataframe tbody tr th:only-of-type {\n",
       "        vertical-align: middle;\n",
       "    }\n",
       "\n",
       "    .dataframe tbody tr th {\n",
       "        vertical-align: top;\n",
       "    }\n",
       "\n",
       "    .dataframe thead th {\n",
       "        text-align: right;\n",
       "    }\n",
       "</style>\n",
       "<table border=\"1\" class=\"dataframe\">\n",
       "  <thead>\n",
       "    <tr style=\"text-align: right;\">\n",
       "      <th></th>\n",
       "      <th>Name</th>\n",
       "      <th>Abilities</th>\n",
       "      <th>Studied_In</th>\n",
       "      <th>Program_Studied</th>\n",
       "      <th>Roles</th>\n",
       "      <th>Companies</th>\n",
       "      <th>Skills</th>\n",
       "      <th>Worked_Companies</th>\n",
       "      <th>Is_Working_Now</th>\n",
       "      <th>Total_Experience</th>\n",
       "    </tr>\n",
       "  </thead>\n",
       "  <tbody>\n",
       "    <tr>\n",
       "      <th>0</th>\n",
       "      <td>Database AdministratorDatabase AdministratorOr...</td>\n",
       "      <td>Installation and Building Server, Running Back...</td>\n",
       "      <td>Lead City University, lagos state university, ...</td>\n",
       "      <td>Bachelor of Science, bsc in computer science, ...</td>\n",
       "      <td>Database Administrator, Database Administrator,</td>\n",
       "      <td>Family Private Care LLC, Incomm, Intercontinen...</td>\n",
       "      <td>Database administration, Database, Ms sql serv...</td>\n",
       "      <td>2</td>\n",
       "      <td>Yes</td>\n",
       "      <td>10</td>\n",
       "    </tr>\n",
       "    <tr>\n",
       "      <th>1</th>\n",
       "      <td>Database AdministratorDatabase AdministratorOr...</td>\n",
       "      <td>database management systems administration, de...</td>\n",
       "      <td>Lead City University, lagos state university, ...</td>\n",
       "      <td>Bachelor of Science, bsc in computer science, ...</td>\n",
       "      <td>Database Administrator,</td>\n",
       "      <td>Family Private Care LLC, Incomm, Intercontinen...</td>\n",
       "      <td>sql server management studio, visual studio, s...</td>\n",
       "      <td>1</td>\n",
       "      <td>No</td>\n",
       "      <td>3</td>\n",
       "    </tr>\n",
       "    <tr>\n",
       "      <th>2</th>\n",
       "      <td>Database AdministratorDatabase AdministratorOr...</td>\n",
       "      <td>Over 4+ years of Experience as Architecture, E...</td>\n",
       "      <td>Lead City University, lagos state university, ...</td>\n",
       "      <td>Bachelor of Science, bsc in computer science, ...</td>\n",
       "      <td>Oracle Database Administrator, Oracle Database...</td>\n",
       "      <td>Family Private Care LLC, Incomm, Intercontinen...</td>\n",
       "      <td>DATABASES, ORACLE (4 years), ORACLE 10G, SQL, ...</td>\n",
       "      <td>2</td>\n",
       "      <td>Yes</td>\n",
       "      <td>10</td>\n",
       "    </tr>\n",
       "  </tbody>\n",
       "</table>\n",
       "</div>"
      ],
      "text/plain": [
       "                                                Name  \\\n",
       "0  Database AdministratorDatabase AdministratorOr...   \n",
       "1  Database AdministratorDatabase AdministratorOr...   \n",
       "2  Database AdministratorDatabase AdministratorOr...   \n",
       "\n",
       "                                           Abilities  \\\n",
       "0  Installation and Building Server, Running Back...   \n",
       "1  database management systems administration, de...   \n",
       "2  Over 4+ years of Experience as Architecture, E...   \n",
       "\n",
       "                                          Studied_In  \\\n",
       "0  Lead City University, lagos state university, ...   \n",
       "1  Lead City University, lagos state university, ...   \n",
       "2  Lead City University, lagos state university, ...   \n",
       "\n",
       "                                     Program_Studied  \\\n",
       "0  Bachelor of Science, bsc in computer science, ...   \n",
       "1  Bachelor of Science, bsc in computer science, ...   \n",
       "2  Bachelor of Science, bsc in computer science, ...   \n",
       "\n",
       "                                               Roles  \\\n",
       "0   Database Administrator, Database Administrator,    \n",
       "1                           Database Administrator,    \n",
       "2  Oracle Database Administrator, Oracle Database...   \n",
       "\n",
       "                                           Companies  \\\n",
       "0  Family Private Care LLC, Incomm, Intercontinen...   \n",
       "1  Family Private Care LLC, Incomm, Intercontinen...   \n",
       "2  Family Private Care LLC, Incomm, Intercontinen...   \n",
       "\n",
       "                                              Skills  Worked_Companies  \\\n",
       "0  Database administration, Database, Ms sql serv...                 2   \n",
       "1  sql server management studio, visual studio, s...                 1   \n",
       "2  DATABASES, ORACLE (4 years), ORACLE 10G, SQL, ...                 2   \n",
       "\n",
       "  Is_Working_Now  Total_Experience  \n",
       "0            Yes                10  \n",
       "1             No                 3  \n",
       "2            Yes                10  "
      ]
     },
     "execution_count": 156,
     "metadata": {},
     "output_type": "execute_result"
    }
   ],
   "source": [
    "resume_df.head(3)"
   ]
  },
  {
   "cell_type": "markdown",
   "id": "863d4c3d-7b54-4198-9338-65a331d42aa2",
   "metadata": {},
   "source": [
    "## EDA"
   ]
  },
  {
   "cell_type": "markdown",
   "id": "fea2d0a9-b598-4d1e-83d3-418f2b0a46ab",
   "metadata": {},
   "source": [
    "#### Columns : Worked_Companies, Is_Working_Now, Total_Experience"
   ]
  },
  {
   "cell_type": "code",
   "execution_count": 157,
   "id": "487e12de-f13a-415c-b335-563dc0014a25",
   "metadata": {},
   "outputs": [
    {
     "data": {
      "image/png": "[encoded data removed]",
      "text/plain": [
       "<Figure size 1000x1200 with 3 Axes>"
      ]
     },
     "metadata": {},
     "output_type": "display_data"
    }
   ],
   "source": [
    "plt.subplots(3, 1, figsize = (10,12))\n",
    "plt.subplots_adjust(hspace=0.3)\n",
    "\n",
    "k = 1\n",
    "for i in ['Worked_Companies', 'Is_Working_Now', 'Total_Experience']:\n",
    "    plt.subplot(3, 1, k)\n",
    "    sns.countplot(x = i, data = resume_df)\n",
    "    plt.title(f'Counts of {i}')\n",
    "    plt.xticks(rotation = 90)\n",
    "    k += 1\n",
    "\n",
    "plt.show()"
   ]
  },
  {
   "cell_type": "code",
   "execution_count": 158,
   "id": "93318018-df8a-4370-bf2f-fe03a67b23bc",
   "metadata": {},
   "outputs": [
    {
     "data": {
      "image/png": "[encoded data removed]",
      "text/plain": [
       "<Figure size 1600x500 with 2 Axes>"
      ]
     },
     "metadata": {},
     "output_type": "display_data"
    }
   ],
   "source": [
    "plt.subplots(1,2,figsize = (16,5))\n",
    "plt.subplots_adjust(wspace=0.3)\n",
    "\n",
    "plt.subplot(1,2,1)\n",
    "col_dict = dict(resume_df['Is_Working_Now'].value_counts())\n",
    "plt.pie(x = col_dict.values(), labels= col_dict.keys(), autopct='%1.1f%%', startangle=90)\n",
    "plt.title('PieChart of Working Status')\n",
    "\n",
    "plt.subplot(1,2,2)\n",
    "sns.scatterplot(x = 'Worked_Companies', y = 'Total_Experience', data = resume_df)\n",
    "plt.xticks(rotation = 90)\n",
    "plt.title('Distribution of Data Points')\n",
    "\n",
    "plt.show()"
   ]
  },
  {
   "cell_type": "markdown",
   "id": "8c172992-0e89-4ce4-b775-fa505dc56889",
   "metadata": {},
   "source": [
    "## Data Preprocessing"
   ]
  },
  {
   "cell_type": "markdown",
   "id": "3cf69ba8-c34b-45f0-a7ef-6fe76957d734",
   "metadata": {},
   "source": [
    "#### Analyzer"
   ]
  },
  {
   "cell_type": "code",
   "execution_count": 159,
   "id": "8dcb3b05-7c0e-432c-93c7-6f2f95951a32",
   "metadata": {},
   "outputs": [],
   "source": [
    "from nltk.corpus import stopwords\n",
    "from nltk.stem import PorterStemmer\n",
    "from nltk.tokenize import word_tokenize\n",
    "import string\n",
    "\n",
    "ps = PorterStemmer()\n",
    "def Analyzer(text):\n",
    "    text = ''.join([i.lower() for i in text if i not in string.punctuation and not i.isnumeric()])\n",
    "    tokens = word_tokenize(text)\n",
    "    text = ' '.join(set([ps.stem(word) for word in tokens if word not in stopwords.words('english')]))\n",
    "    return text"
   ]
  },
  {
   "cell_type": "markdown",
   "id": "59961a9c-19d8-4672-8d45-d9232a9b00b1",
   "metadata": {},
   "source": [
    "#### Column Transformer"
   ]
  },
  {
   "cell_type": "code",
   "execution_count": 160,
   "id": "c4deb581-e33e-4c15-a6d9-87f4ec41a7e5",
   "metadata": {},
   "outputs": [
    {
     "data": {
      "text/html": [
       "<style>#sk-container-id-5 {color: black;background-color: white;}#sk-container-id-5 pre{padding: 0;}#sk-container-id-5 div.sk-toggleable {background-color: white;}#sk-container-id-5 label.sk-toggleable__label {cursor: pointer;display: block;width: 100%;margin-bottom: 0;padding: 0.3em;box-sizing: border-box;text-align: center;}#sk-container-id-5 label.sk-toggleable__label-arrow:before {content: \"▸\";float: left;margin-right: 0.25em;color: #696969;}#sk-container-id-5 label.sk-toggleable__label-arrow:hover:before {color: black;}#sk-container-id-5 div.sk-estimator:hover label.sk-toggleable__label-arrow:before {color: black;}#sk-container-id-5 div.sk-toggleable__content {max-height: 0;max-width: 0;overflow: hidden;text-align: left;background-color: #f0f8ff;}#sk-container-id-5 div.sk-toggleable__content pre {margin: 0.2em;color: black;border-radius: 0.25em;background-color: #f0f8ff;}#sk-container-id-5 input.sk-toggleable__control:checked~div.sk-toggleable__content {max-height: 200px;max-width: 100%;overflow: auto;}#sk-container-id-5 input.sk-toggleable__control:checked~label.sk-toggleable__label-arrow:before {content: \"▾\";}#sk-container-id-5 div.sk-estimator input.sk-toggleable__control:checked~label.sk-toggleable__label {background-color: #d4ebff;}#sk-container-id-5 div.sk-label input.sk-toggleable__control:checked~label.sk-toggleable__label {background-color: #d4ebff;}#sk-container-id-5 input.sk-hidden--visually {border: 0;clip: rect(1px 1px 1px 1px);clip: rect(1px, 1px, 1px, 1px);height: 1px;margin: -1px;overflow: hidden;padding: 0;position: absolute;width: 1px;}#sk-container-id-5 div.sk-estimator {font-family: monospace;background-color: #f0f8ff;border: 1px dotted black;border-radius: 0.25em;box-sizing: border-box;margin-bottom: 0.5em;}#sk-container-id-5 div.sk-estimator:hover {background-color: #d4ebff;}#sk-container-id-5 div.sk-parallel-item::after {content: \"\";width: 100%;border-bottom: 1px solid gray;flex-grow: 1;}#sk-container-id-5 div.sk-label:hover label.sk-toggleable__label {background-color: #d4ebff;}#sk-container-id-5 div.sk-serial::before {content: \"\";position: absolute;border-left: 1px solid gray;box-sizing: border-box;top: 0;bottom: 0;left: 50%;z-index: 0;}#sk-container-id-5 div.sk-serial {display: flex;flex-direction: column;align-items: center;background-color: white;padding-right: 0.2em;padding-left: 0.2em;position: relative;}#sk-container-id-5 div.sk-item {position: relative;z-index: 1;}#sk-container-id-5 div.sk-parallel {display: flex;align-items: stretch;justify-content: center;background-color: white;position: relative;}#sk-container-id-5 div.sk-item::before, #sk-container-id-5 div.sk-parallel-item::before {content: \"\";position: absolute;border-left: 1px solid gray;box-sizing: border-box;top: 0;bottom: 0;left: 50%;z-index: -1;}#sk-container-id-5 div.sk-parallel-item {display: flex;flex-direction: column;z-index: 1;position: relative;background-color: white;}#sk-container-id-5 div.sk-parallel-item:first-child::after {align-self: flex-end;width: 50%;}#sk-container-id-5 div.sk-parallel-item:last-child::after {align-self: flex-start;width: 50%;}#sk-container-id-5 div.sk-parallel-item:only-child::after {width: 0;}#sk-container-id-5 div.sk-dashed-wrapped {border: 1px dashed gray;margin: 0 0.4em 0.5em 0.4em;box-sizing: border-box;padding-bottom: 0.4em;background-color: white;}#sk-container-id-5 div.sk-label label {font-family: monospace;font-weight: bold;display: inline-block;line-height: 1.2em;}#sk-container-id-5 div.sk-label-container {text-align: center;}#sk-container-id-5 div.sk-container {/* jupyter's `normalize.less` sets `[hidden] { display: none; }` but bootstrap.min.css set `[hidden] { display: none !important; }` so we also need the `!important` here to be able to override the default hidden behavior on the sphinx rendered scikit-learn.org. See: https://github.com/scikit-learn/scikit-learn/issues/21755 */display: inline-block !important;position: relative;}#sk-container-id-5 div.sk-text-repr-fallback {display: none;}</style><div id=\"sk-container-id-5\" class=\"sk-top-container\"><div class=\"sk-text-repr-fallback\"><pre>ColumnTransformer(sparse_threshold=0,\n",
       "                  transformers=[(&#x27;onehot&#x27;,\n",
       "                                 OneHotEncoder(drop=&#x27;first&#x27;,\n",
       "                                               handle_unknown=&#x27;ignore&#x27;,\n",
       "                                               sparse_output=False),\n",
       "                                 [&#x27;Name&#x27;, &#x27;Studied_In&#x27;, &#x27;Program_Studied&#x27;]),\n",
       "                                (&#x27;encoder&#x27;,\n",
       "                                 OrdinalEncoder(categories=[[&#x27;Yes&#x27;, &#x27;No&#x27;]]),\n",
       "                                 [&#x27;Is_Working_Now&#x27;]),\n",
       "                                (&#x27;scaler&#x27;, MinMaxScaler(),\n",
       "                                 [&#x27;Worked_Companies&#x27;, &#x27;Total_Experience&#x27;])])</pre><b>In a Jupyter environment, please rerun this cell to show the HTML representation or trust the notebook. <br />On GitHub, the HTML representation is unable to render, please try loading this page with nbviewer.org.</b></div><div class=\"sk-container\" hidden><div class=\"sk-item sk-dashed-wrapped\"><div class=\"sk-label-container\"><div class=\"sk-label sk-toggleable\"><input class=\"sk-toggleable__control sk-hidden--visually\" id=\"sk-estimator-id-29\" type=\"checkbox\" ><label for=\"sk-estimator-id-29\" class=\"sk-toggleable__label sk-toggleable__label-arrow\">ColumnTransformer</label><div class=\"sk-toggleable__content\"><pre>ColumnTransformer(sparse_threshold=0,\n",
       "                  transformers=[(&#x27;onehot&#x27;,\n",
       "                                 OneHotEncoder(drop=&#x27;first&#x27;,\n",
       "                                               handle_unknown=&#x27;ignore&#x27;,\n",
       "                                               sparse_output=False),\n",
       "                                 [&#x27;Name&#x27;, &#x27;Studied_In&#x27;, &#x27;Program_Studied&#x27;]),\n",
       "                                (&#x27;encoder&#x27;,\n",
       "                                 OrdinalEncoder(categories=[[&#x27;Yes&#x27;, &#x27;No&#x27;]]),\n",
       "                                 [&#x27;Is_Working_Now&#x27;]),\n",
       "                                (&#x27;scaler&#x27;, MinMaxScaler(),\n",
       "                                 [&#x27;Worked_Companies&#x27;, &#x27;Total_Experience&#x27;])])</pre></div></div></div><div class=\"sk-parallel\"><div class=\"sk-parallel-item\"><div class=\"sk-item\"><div class=\"sk-label-container\"><div class=\"sk-label sk-toggleable\"><input class=\"sk-toggleable__control sk-hidden--visually\" id=\"sk-estimator-id-30\" type=\"checkbox\" ><label for=\"sk-estimator-id-30\" class=\"sk-toggleable__label sk-toggleable__label-arrow\">onehot</label><div class=\"sk-toggleable__content\"><pre>[&#x27;Name&#x27;, &#x27;Studied_In&#x27;, &#x27;Program_Studied&#x27;]</pre></div></div></div><div class=\"sk-serial\"><div class=\"sk-item\"><div class=\"sk-estimator sk-toggleable\"><input class=\"sk-toggleable__control sk-hidden--visually\" id=\"sk-estimator-id-31\" type=\"checkbox\" ><label for=\"sk-estimator-id-31\" class=\"sk-toggleable__label sk-toggleable__label-arrow\">OneHotEncoder</label><div class=\"sk-toggleable__content\"><pre>OneHotEncoder(drop=&#x27;first&#x27;, handle_unknown=&#x27;ignore&#x27;, sparse_output=False)</pre></div></div></div></div></div></div><div class=\"sk-parallel-item\"><div class=\"sk-item\"><div class=\"sk-label-container\"><div class=\"sk-label sk-toggleable\"><input class=\"sk-toggleable__control sk-hidden--visually\" id=\"sk-estimator-id-32\" type=\"checkbox\" ><label for=\"sk-estimator-id-32\" class=\"sk-toggleable__label sk-toggleable__label-arrow\">encoder</label><div class=\"sk-toggleable__content\"><pre>[&#x27;Is_Working_Now&#x27;]</pre></div></div></div><div class=\"sk-serial\"><div class=\"sk-item\"><div class=\"sk-estimator sk-toggleable\"><input class=\"sk-toggleable__control sk-hidden--visually\" id=\"sk-estimator-id-33\" type=\"checkbox\" ><label for=\"sk-estimator-id-33\" class=\"sk-toggleable__label sk-toggleable__label-arrow\">OrdinalEncoder</label><div class=\"sk-toggleable__content\"><pre>OrdinalEncoder(categories=[[&#x27;Yes&#x27;, &#x27;No&#x27;]])</pre></div></div></div></div></div></div><div class=\"sk-parallel-item\"><div class=\"sk-item\"><div class=\"sk-label-container\"><div class=\"sk-label sk-toggleable\"><input class=\"sk-toggleable__control sk-hidden--visually\" id=\"sk-estimator-id-34\" type=\"checkbox\" ><label for=\"sk-estimator-id-34\" class=\"sk-toggleable__label sk-toggleable__label-arrow\">scaler</label><div class=\"sk-toggleable__content\"><pre>[&#x27;Worked_Companies&#x27;, &#x27;Total_Experience&#x27;]</pre></div></div></div><div class=\"sk-serial\"><div class=\"sk-item\"><div class=\"sk-estimator sk-toggleable\"><input class=\"sk-toggleable__control sk-hidden--visually\" id=\"sk-estimator-id-35\" type=\"checkbox\" ><label for=\"sk-estimator-id-35\" class=\"sk-toggleable__label sk-toggleable__label-arrow\">MinMaxScaler</label><div class=\"sk-toggleable__content\"><pre>MinMaxScaler()</pre></div></div></div></div></div></div></div></div></div></div>"
      ],
      "text/plain": [
       "ColumnTransformer(sparse_threshold=0,\n",
       "                  transformers=[('onehot',\n",
       "                                 OneHotEncoder(drop='first',\n",
       "                                               handle_unknown='ignore',\n",
       "                                               sparse_output=False),\n",
       "                                 ['Name', 'Studied_In', 'Program_Studied']),\n",
       "                                ('encoder',\n",
       "                                 OrdinalEncoder(categories=[['Yes', 'No']]),\n",
       "                                 ['Is_Working_Now']),\n",
       "                                ('scaler', MinMaxScaler(),\n",
       "                                 ['Worked_Companies', 'Total_Experience'])])"
      ]
     },
     "execution_count": 160,
     "metadata": {},
     "output_type": "execute_result"
    }
   ],
   "source": [
    "from sklearn.compose import ColumnTransformer\n",
    "from sklearn.pipeline import Pipeline\n",
    "from sklearn.preprocessing import OrdinalEncoder\n",
    "from sklearn.feature_extraction.text import CountVectorizer\n",
    "from sklearn.preprocessing import OneHotEncoder\n",
    "from sklearn.preprocessing import MinMaxScaler\n",
    "\n",
    "cv_pipe = Pipeline(steps = [('count_vectorizer', CountVectorizer(analyzer=Analyzer))])\n",
    "\n",
    "ct = ColumnTransformer(transformers=[('onehot', OneHotEncoder(drop='first', handle_unknown='ignore', sparse_output=False), \n",
    "                                      ['Name','Studied_In','Program_Studied']), \n",
    "                                     ('encoder', OrdinalEncoder(categories=[['Yes','No']]), ['Is_Working_Now']), \n",
    "                                     ('scaler', MinMaxScaler(), ['Worked_Companies', 'Total_Experience'])], \n",
    "                       remainder='drop', sparse_threshold=0)\n",
    "ct"
   ]
  },
  {
   "cell_type": "code",
   "execution_count": 161,
   "id": "5dd59816-36d6-464e-9387-c7e407378fd4",
   "metadata": {},
   "outputs": [],
   "source": [
    "abilities_pr = pd.DataFrame(cv_pipe.fit_transform(resume_df['Abilities']).toarray())"
   ]
  },
  {
   "cell_type": "code",
   "execution_count": 162,
   "id": "e2e27741-bd3b-4bfa-8a52-2fe9fd5473e3",
   "metadata": {},
   "outputs": [],
   "source": [
    "roles_pr = pd.DataFrame(cv_pipe.fit_transform(resume_df['Roles']).toarray())"
   ]
  },
  {
   "cell_type": "code",
   "execution_count": 163,
   "id": "f2bfcb8a-b9a4-421d-9a61-20da0fe725b5",
   "metadata": {},
   "outputs": [],
   "source": [
    "skills_pr = pd.DataFrame(cv_pipe.fit_transform(resume_df['Skills']).toarray())"
   ]
  },
  {
   "cell_type": "code",
   "execution_count": 164,
   "id": "8bf1483e-340f-4fff-a632-d232c721b7dd",
   "metadata": {},
   "outputs": [],
   "source": [
    "resume_df_pr = pd.DataFrame(ct.fit_transform(resume_df))"
   ]
  },
  {
   "cell_type": "code",
   "execution_count": null,
   "id": "d101771e-4063-4ee0-b600-5db527c84e11",
   "metadata": {},
   "outputs": [],
   "source": [
    "companies_pr = pd.DataFrame(cv_pipe.fit_transform(resume_df['Companies']).toarray())"
   ]
  },
  {
   "cell_type": "code",
   "execution_count": null,
   "id": "742c8b4e-cff1-421a-a838-11b95ef7f498",
   "metadata": {},
   "outputs": [],
   "source": [
    "pd.concat([abilities_pr, roles_pr, skills_pr, companies_pr, resume_df_pr], axis = 1)"
   ]
  },
  {
   "cell_type": "markdown",
   "id": "0f3d9ebe-9d18-44bf-9163-9ab505ba7411",
   "metadata": {},
   "source": [
    "## Model Building"
   ]
  },
  {
   "cell_type": "code",
   "execution_count": null,
   "id": "436d0cf1-1828-4ace-a180-1ac120b43f27",
   "metadata": {},
   "outputs": [],
   "source": []
  }
 ],
 "metadata": {
  "kernelspec": {
   "display_name": "Python 3 (ipykernel)",
   "language": "python",
   "name": "python3"
  },
  "language_info": {
   "codemirror_mode": {
    "name": "ipython",
    "version": 3
   },
   "file_extension": ".py",
   "mimetype": "text/x-python",
   "name": "python",
   "nbconvert_exporter": "python",
   "pygments_lexer": "ipython3",
   "version": "3.11.7"
  }
 },
 "nbformat": 4,
 "nbformat_minor": 5
}
